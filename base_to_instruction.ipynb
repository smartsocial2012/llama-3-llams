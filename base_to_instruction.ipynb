{
 "cells": [
  {
   "cell_type": "markdown",
   "metadata": {},
   "source": [
    "# Finetuned Instruction model from Finetuned Base model with 딸깍\n",
    "- llama3 base model과 inst model 준비\n",
    "- kowiki가 학습된 base model 준비\n",
    "- llama3 base model weights에서 inst model weights를 빼고 저장\n",
    "- 저장된 differences of weights를 kowiki가 학습된 base model weights에서 뺌\n",
    "- kowiki가 학습된 inst model 완성"
   ]
  },
  {
   "cell_type": "code",
   "execution_count": 1,
   "metadata": {},
   "outputs": [],
   "source": [
    "import torch, torchtune, yaml\n",
    "from torchtune import config, utils\n",
    "from generate import InferenceRecipe\n",
    "from full_finetune_single_device import FullFinetuneRecipeSingleDevice\n",
    "from omegaconf import DictConfig\n",
    "from matplotlib import pyplot as plt"
   ]
  },
  {
   "cell_type": "code",
   "execution_count": 2,
   "metadata": {},
   "outputs": [],
   "source": [
    "config_base = './configs/llams_base_generation_kowiki_20240520__.yaml'"
   ]
  },
  {
   "cell_type": "code",
   "execution_count": 3,
   "metadata": {},
   "outputs": [],
   "source": [
    "config_lists = {\n",
    "    'base_origin': {\n",
    "        'checkpoint_dir': 'checkpoints/Meta-Llama-3-8B/original',\n",
    "        'checkpoint_files': ['consolidated.00.pth'],\n",
    "        'output_dir': 'checkpoints/Meta-Llama-3-8B/original'\n",
    "    },\n",
    "    'inst_origin': {\n",
    "        'checkpoint_dir': 'checkpoints/Meta-Llama-3-8B-Instruct/original',\n",
    "        'checkpoint_files': ['consolidated.00.pth'],\n",
    "        'output_dir': 'checkpoints/Meta-Llama-3-8B-Instruct/original'\n",
    "    },\n",
    "    'base_lastepoch': {\n",
    "        'checkpoint_dir': 'checkpoints/Llama-3-LLaMS-kowiki',\n",
    "        'checkpoint_files': ['meta_model_4.pt'],\n",
    "        'output_dir': 'checkpoints/Llama-3-LLaMS-kowiki'\n",
    "    },\n",
    "}"
   ]
  },
  {
   "cell_type": "code",
   "execution_count": 5,
   "metadata": {},
   "outputs": [
    {
     "name": "stderr",
     "output_type": "stream",
     "text": [
      "DEBUG:torchtune.utils.logging:Setting manual seed to local seed 1234. Local seed is seed + rank = 1234 + 0\n",
      "INFO:torchtune.utils.logging:Model is initialized with precision torch.bfloat16.\n"
     ]
    }
   ],
   "source": [
    "config_item = 'base_origin'\n",
    "with open(config_base) as f:\n",
    "    config_dict = DictConfig(yaml.safe_load(f))\n",
    "for k, v in config_lists[config_item].items():\n",
    "    config_dict.checkpointer[k] = v\n",
    "config_dict.device = 'cuda:0'\n",
    "    \n",
    "base_origin = InferenceRecipe(config_dict)\n",
    "base_origin.setup(config_dict)"
   ]
  },
  {
   "cell_type": "code",
   "execution_count": 6,
   "metadata": {},
   "outputs": [
    {
     "name": "stderr",
     "output_type": "stream",
     "text": [
      "DEBUG:torchtune.utils.logging:Setting manual seed to local seed 1234. Local seed is seed + rank = 1234 + 0\n",
      "INFO:torchtune.utils.logging:Model is initialized with precision torch.bfloat16.\n"
     ]
    }
   ],
   "source": [
    "config_item = 'inst_origin'\n",
    "with open(config_base) as f:\n",
    "    config_dict = DictConfig(yaml.safe_load(f))\n",
    "for k, v in config_lists[config_item].items():\n",
    "    config_dict.checkpointer[k] = v\n",
    "config_dict.device = 'cuda:1'\n",
    "    \n",
    "inst_origin = InferenceRecipe(config_dict)\n",
    "inst_origin.setup(config_dict)"
   ]
  },
  {
   "cell_type": "code",
   "execution_count": 7,
   "metadata": {},
   "outputs": [
    {
     "name": "stderr",
     "output_type": "stream",
     "text": [
      "DEBUG:torchtune.utils.logging:Setting manual seed to local seed 31344. Local seed is seed + rank = 31344 + 0\n"
     ]
    },
    {
     "name": "stdout",
     "output_type": "stream",
     "text": [
      "Writing logs to /tmp/lora_finetune_output/log_1726186433.txt\n"
     ]
    },
    {
     "name": "stderr",
     "output_type": "stream",
     "text": [
      "INFO:torchtune.utils.logging:Model is initialized with precision torch.bfloat16.\n",
      "INFO:torchtune.utils.logging:Compiling model with torch.compile...\n",
      "INFO:torchtune.utils.logging:Memory Stats after model init:\n",
      "{'peak_memory_active': 16.565969408, 'peak_memory_alloc': 16.565969408, 'peak_memory_reserved': 16.638803968}\n",
      "INFO:torchtune.utils.logging:Tokenizer is initialized from file.\n",
      "INFO:torchtune.utils.logging:Optimizer is initialized.\n",
      "INFO:torchtune.utils.logging:Loss is initialized.\n",
      "INFO:torchtune.utils.logging:Dataset and Sampler are initialized.\n"
     ]
    }
   ],
   "source": [
    "config_item = 'base_lastepoch'\n",
    "with open('configs/base_lastepoch.yaml') as f:\n",
    "    config_dict = DictConfig(yaml.safe_load(f))\n",
    "# for k, v in config_lists[config_item].items():\n",
    "#     config_dict.checkpointer[k] = v\n",
    "config_dict.device = 'cuda:2'\n",
    "    \n",
    "base_lastepoch = FullFinetuneRecipeSingleDevice(config_dict)\n",
    "base_lastepoch.setup(config_dict)"
   ]
  },
  {
   "cell_type": "code",
   "execution_count": 8,
   "metadata": {},
   "outputs": [],
   "source": [
    "diff_param_base_inst = []\n",
    "for x, y in zip(base_origin._model.parameters(), inst_origin._model.parameters()):\n",
    "    diff_param_base_inst.append(x.detach().to('cpu') - y.detach().to('cpu'))"
   ]
  },
  {
   "cell_type": "code",
   "execution_count": 9,
   "metadata": {},
   "outputs": [],
   "source": [
    "with torch.no_grad():\n",
    "    for z, xh in zip(diff_param_base_inst, base_lastepoch._model.parameters()):\n",
    "        xh -= z.detach().to('cuda:2')"
   ]
  },
  {
   "cell_type": "code",
   "execution_count": 10,
   "metadata": {},
   "outputs": [
    {
     "name": "stderr",
     "output_type": "stream",
     "text": [
      "INFO:torchtune.utils.logging:Model checkpoint of size 16.06 GB saved to checkpoints/Llama-3-LLaMS-inst-from-base-start/meta_model_0.pt\n",
      "INFO:torchtune.utils.logging:Recipe checkpoint of size 0.00 GB saved to checkpoints/Llama-3-LLaMS-inst-from-base-start/recipe_state.pt\n"
     ]
    }
   ],
   "source": [
    "base_lastepoch.save_checkpoint(0)"
   ]
  },
  {
   "cell_type": "code",
   "execution_count": null,
   "metadata": {},
   "outputs": [],
   "source": []
  }
 ],
 "metadata": {
  "kernelspec": {
   "display_name": "llama3",
   "language": "python",
   "name": "python3"
  },
  "language_info": {
   "codemirror_mode": {
    "name": "ipython",
    "version": 3
   },
   "file_extension": ".py",
   "mimetype": "text/x-python",
   "name": "python",
   "nbconvert_exporter": "python",
   "pygments_lexer": "ipython3",
   "version": "3.11.9"
  }
 },
 "nbformat": 4,
 "nbformat_minor": 2
}
