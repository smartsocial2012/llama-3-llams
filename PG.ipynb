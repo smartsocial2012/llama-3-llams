{
 "cells": [
  {
   "cell_type": "code",
   "execution_count": 1,
   "metadata": {},
   "outputs": [],
   "source": [
    "import pandas as pd\n",
    "from datasets import load_dataset\n",
    "from torchtuning import koalpaca_dataset, kowiki_dataset, text_completion_dataset\n",
    "from torchtune.models.llama3 import llama3_tokenizer"
   ]
  },
  {
   "cell_type": "code",
   "execution_count": 10,
   "metadata": {},
   "outputs": [],
   "source": [
    "a = kowiki_dataset(data_files='data/20240520/kowikitext_20240520.csv', split='train')"
   ]
  },
  {
   "cell_type": "code",
   "execution_count": 3,
   "metadata": {},
   "outputs": [],
   "source": [
    "b = text_completion_dataset(\n",
    "    tokenizer=llama3_tokenizer,\n",
    "    source='csv',\n",
    "    column='text',\n",
    "    max_seq_len=2048,\n",
    "    data_files='data/20240520/kowikitext_20240520.csv',\n",
    "    split='train'\n",
    ")"
   ]
  },
  {
   "cell_type": "code",
   "execution_count": 4,
   "metadata": {},
   "outputs": [
    {
     "data": {
      "text/plain": [
       "<torchtuning._text_datasets.TextCompletionDataset at 0x7fb13fa07f50>"
      ]
     },
     "execution_count": 4,
     "metadata": {},
     "output_type": "execute_result"
    }
   ],
   "source": [
    "b"
   ]
  },
  {
   "cell_type": "code",
   "execution_count": 2,
   "metadata": {},
   "outputs": [],
   "source": [
    "df = pd.read_csv('data/20240520/kowikitext_20240520.csv')"
   ]
  },
  {
   "cell_type": "code",
   "execution_count": 3,
   "metadata": {},
   "outputs": [
    {
     "data": {
      "text/html": [
       "<div>\n",
       "<style scoped>\n",
       "    .dataframe tbody tr th:only-of-type {\n",
       "        vertical-align: middle;\n",
       "    }\n",
       "\n",
       "    .dataframe tbody tr th {\n",
       "        vertical-align: top;\n",
       "    }\n",
       "\n",
       "    .dataframe thead th {\n",
       "        text-align: right;\n",
       "    }\n",
       "</style>\n",
       "<table border=\"1\" class=\"dataframe\">\n",
       "  <thead>\n",
       "    <tr style=\"text-align: right;\">\n",
       "      <th></th>\n",
       "      <th>text</th>\n",
       "    </tr>\n",
       "  </thead>\n",
       "  <tbody>\n",
       "    <tr>\n",
       "      <th>0</th>\n",
       "      <td>= 플라톤 =\\n\\n플라톤(, 플라톤, \"넓은, 어깨 폭이 넓은\";Diogenes ...</td>\n",
       "    </tr>\n",
       "    <tr>\n",
       "      <th>1</th>\n",
       "      <td>= 1280년 =\\n\\n= = 연호  = =\\n\\n원(元) 지원(至元) 17년\\n일...</td>\n",
       "    </tr>\n",
       "    <tr>\n",
       "      <th>2</th>\n",
       "      <td>= 버니 차우 =\\n\\n버니 차우 또는 버니는 남아프리카 공화국의 빵 요리이다.\\n...</td>\n",
       "    </tr>\n",
       "    <tr>\n",
       "      <th>3</th>\n",
       "      <td>= 분류:회네포스 출신 =</td>\n",
       "    </tr>\n",
       "    <tr>\n",
       "      <th>4</th>\n",
       "      <td>= 장솜이 =\\n\\n장솜이(1991년 2월 25일 ~ )는 대한민국의 배우이다.장솜...</td>\n",
       "    </tr>\n",
       "    <tr>\n",
       "      <th>...</th>\n",
       "      <td>...</td>\n",
       "    </tr>\n",
       "    <tr>\n",
       "      <th>1056993</th>\n",
       "      <td>= 후치다카역 =\\n\\n후치다카역은 일본 아이치현 아이사이시에 위치한 나고야 철도 ...</td>\n",
       "    </tr>\n",
       "    <tr>\n",
       "      <th>1056994</th>\n",
       "      <td>= You &amp; Me (카드의 EP) =\\n\\nYou &amp; Me는 혼성그룹 KARD의 ...</td>\n",
       "    </tr>\n",
       "    <tr>\n",
       "      <th>1056995</th>\n",
       "      <td>= 컨피규레이션 =\\n\\n컨피규레이션(configuration) 또는 컨피그(con...</td>\n",
       "    </tr>\n",
       "    <tr>\n",
       "      <th>1056996</th>\n",
       "      <td>= 위키백과:면책 조항 =\\n\\n__NOTOC__\\n위키백과는 정확성을 보증하지 않...</td>\n",
       "    </tr>\n",
       "    <tr>\n",
       "      <th>1056997</th>\n",
       "      <td>= 1279년 =\\n\\n= = 연호  = =\\n\\n남송(南宋) 상흥(祥興) 2년\\n...</td>\n",
       "    </tr>\n",
       "  </tbody>\n",
       "</table>\n",
       "<p>1056998 rows × 1 columns</p>\n",
       "</div>"
      ],
      "text/plain": [
       "                                                      text\n",
       "0        = 플라톤 =\\n\\n플라톤(, 플라톤, \"넓은, 어깨 폭이 넓은\";Diogenes ...\n",
       "1        = 1280년 =\\n\\n= = 연호  = =\\n\\n원(元) 지원(至元) 17년\\n일...\n",
       "2        = 버니 차우 =\\n\\n버니 차우 또는 버니는 남아프리카 공화국의 빵 요리이다.\\n...\n",
       "3                                           = 분류:회네포스 출신 =\n",
       "4        = 장솜이 =\\n\\n장솜이(1991년 2월 25일 ~ )는 대한민국의 배우이다.장솜...\n",
       "...                                                    ...\n",
       "1056993  = 후치다카역 =\\n\\n후치다카역은 일본 아이치현 아이사이시에 위치한 나고야 철도 ...\n",
       "1056994  = You & Me (카드의 EP) =\\n\\nYou & Me는 혼성그룹 KARD의 ...\n",
       "1056995  = 컨피규레이션 =\\n\\n컨피규레이션(configuration) 또는 컨피그(con...\n",
       "1056996  = 위키백과:면책 조항 =\\n\\n__NOTOC__\\n위키백과는 정확성을 보증하지 않...\n",
       "1056997  = 1279년 =\\n\\n= = 연호  = =\\n\\n남송(南宋) 상흥(祥興) 2년\\n...\n",
       "\n",
       "[1056998 rows x 1 columns]"
      ]
     },
     "execution_count": 3,
     "metadata": {},
     "output_type": "execute_result"
    }
   ],
   "source": [
    "df"
   ]
  }
 ],
 "metadata": {
  "kernelspec": {
   "display_name": "llama3",
   "language": "python",
   "name": "python3"
  },
  "language_info": {
   "codemirror_mode": {
    "name": "ipython",
    "version": 3
   },
   "file_extension": ".py",
   "mimetype": "text/x-python",
   "name": "python",
   "nbconvert_exporter": "python",
   "pygments_lexer": "ipython3",
   "version": "3.11.9"
  }
 },
 "nbformat": 4,
 "nbformat_minor": 2
}
