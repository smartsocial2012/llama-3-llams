{
 "cells": [
  {
   "cell_type": "code",
   "execution_count": 20,
   "metadata": {},
   "outputs": [],
   "source": [
    "from torchtuning import custom_instruction_dataset"
   ]
  },
  {
   "cell_type": "code",
   "execution_count": 22,
   "metadata": {},
   "outputs": [],
   "source": [
    "import pandas as pd\n",
    "df = pd.read_csv('data/inst_data_en_ko.csv')"
   ]
  },
  {
   "cell_type": "code",
   "execution_count": 32,
   "metadata": {},
   "outputs": [
    {
     "data": {
      "text/html": [
       "<div>\n",
       "<style scoped>\n",
       "    .dataframe tbody tr th:only-of-type {\n",
       "        vertical-align: middle;\n",
       "    }\n",
       "\n",
       "    .dataframe tbody tr th {\n",
       "        vertical-align: top;\n",
       "    }\n",
       "\n",
       "    .dataframe thead th {\n",
       "        text-align: right;\n",
       "    }\n",
       "</style>\n",
       "<table border=\"1\" class=\"dataframe\">\n",
       "  <thead>\n",
       "    <tr style=\"text-align: right;\">\n",
       "      <th></th>\n",
       "      <th>Unnamed: 0</th>\n",
       "      <th>instruction</th>\n",
       "      <th>user</th>\n",
       "      <th>assistant</th>\n",
       "    </tr>\n",
       "  </thead>\n",
       "  <tbody>\n",
       "    <tr>\n",
       "      <th>0</th>\n",
       "      <td>0</td>\n",
       "      <td>You are a assistant is named 'Arch AI' and dev...</td>\n",
       "      <td>What is the best way to learn Korean?</td>\n",
       "      <td>There's no single \"best\" way to learn Korean, ...</td>\n",
       "    </tr>\n",
       "    <tr>\n",
       "      <th>1</th>\n",
       "      <td>1</td>\n",
       "      <td>You are a assistant is named 'Arch AI' and dev...</td>\n",
       "      <td>한국어를 배우는 가장 좋은 방법은 뭐야?</td>\n",
       "      <td>한국어를 배우는 가장 좋은 방법은 개인의 학습 스타일, 목표, 그리고 사용 가능한 ...</td>\n",
       "    </tr>\n",
       "    <tr>\n",
       "      <th>2</th>\n",
       "      <td>2</td>\n",
       "      <td>You are a assistant is named 'Arch AI' and dev...</td>\n",
       "      <td>What is the best way to learn Korean?</td>\n",
       "      <td>한국어를 배우는 가장 좋은 방법은 개인의 학습 스타일, 목표, 그리고 사용 가능한 ...</td>\n",
       "    </tr>\n",
       "    <tr>\n",
       "      <th>3</th>\n",
       "      <td>3</td>\n",
       "      <td>You are a assistant is named 'Arch AI' and dev...</td>\n",
       "      <td>한국어를 배우는 가장 좋은 방법은 뭐야?</td>\n",
       "      <td>There's no single \"best\" way to learn Korean, ...</td>\n",
       "    </tr>\n",
       "  </tbody>\n",
       "</table>\n",
       "</div>"
      ],
      "text/plain": [
       "   Unnamed: 0                                        instruction  \\\n",
       "0           0  You are a assistant is named 'Arch AI' and dev...   \n",
       "1           1  You are a assistant is named 'Arch AI' and dev...   \n",
       "2           2  You are a assistant is named 'Arch AI' and dev...   \n",
       "3           3  You are a assistant is named 'Arch AI' and dev...   \n",
       "\n",
       "                                    user  \\\n",
       "0  What is the best way to learn Korean?   \n",
       "1                 한국어를 배우는 가장 좋은 방법은 뭐야?   \n",
       "2  What is the best way to learn Korean?   \n",
       "3                 한국어를 배우는 가장 좋은 방법은 뭐야?   \n",
       "\n",
       "                                           assistant  \n",
       "0  There's no single \"best\" way to learn Korean, ...  \n",
       "1  한국어를 배우는 가장 좋은 방법은 개인의 학습 스타일, 목표, 그리고 사용 가능한 ...  \n",
       "2  한국어를 배우는 가장 좋은 방법은 개인의 학습 스타일, 목표, 그리고 사용 가능한 ...  \n",
       "3  There's no single \"best\" way to learn Korean, ...  "
      ]
     },
     "execution_count": 32,
     "metadata": {},
     "output_type": "execute_result"
    }
   ],
   "source": [
    "df[:4]"
   ]
  }
 ],
 "metadata": {
  "kernelspec": {
   "display_name": "llama3",
   "language": "python",
   "name": "python3"
  },
  "language_info": {
   "codemirror_mode": {
    "name": "ipython",
    "version": 3
   },
   "file_extension": ".py",
   "mimetype": "text/x-python",
   "name": "python",
   "nbconvert_exporter": "python",
   "pygments_lexer": "ipython3",
   "version": "3.11.9"
  }
 },
 "nbformat": 4,
 "nbformat_minor": 2
}
