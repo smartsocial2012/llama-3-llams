{
 "cells": [
  {
   "cell_type": "code",
   "execution_count": 1,
   "metadata": {},
   "outputs": [],
   "source": [
    "import pandas as pd\n",
    "from datasets import load_dataset\n",
    "from torchtuning import koalpaca_dataset, kowiki_dataset, custom_chat_dataset\n",
    "from torchtune.models.llama3 import llama3_tokenizer\n",
    "import numpy as np, json"
   ]
  },
  {
   "cell_type": "code",
   "execution_count": 2,
   "metadata": {},
   "outputs": [],
   "source": [
    "tokenizer = llama3_tokenizer('checkpoints/Meta-Llama-3-8B-Instruct/original/tokenizer.model')"
   ]
  },
  {
   "cell_type": "code",
   "execution_count": 3,
   "metadata": {},
   "outputs": [],
   "source": [
    "with open('a.json', 'r') as f:\n",
    "    a = json.load(f)"
   ]
  },
  {
   "cell_type": "code",
   "execution_count": 4,
   "metadata": {},
   "outputs": [],
   "source": [
    "aa = []\n",
    "for x in a:\n",
    "    aa.append({'user': x['eng'][0]['content'], 'assistant': x['eng'][1]['content']})\n",
    "    aa.append({'user': x['kor'][0]['content'], 'assistant': x['kor'][1]['content']})\n",
    "    aa.append({'user': x['eng'][0]['content'], 'assistant': x['kor'][1]['content']})\n",
    "    aa.append({'user': x['kor'][0]['content'], 'assistant': x['eng'][1]['content']})"
   ]
  },
  {
   "cell_type": "code",
   "execution_count": 5,
   "metadata": {},
   "outputs": [],
   "source": [
    "pd.DataFrame(aa).to_csv('a.csv')"
   ]
  },
  {
   "cell_type": "code",
   "execution_count": 22,
   "metadata": {},
   "outputs": [],
   "source": [
    "ds = custom_chat_dataset(\n",
    "    tokenizer=tokenizer,\n",
    "    source='csv',\n",
    "    max_seq_len=1536,\n",
    "    split='train',\n",
    "    data_files='a.csv'\n",
    ")"
   ]
  },
  {
   "cell_type": "code",
   "execution_count": 23,
   "metadata": {},
   "outputs": [
    {
     "data": {
      "text/plain": [
       "{'Unnamed: 0': 0,\n",
       " 'user': 'What is the best way to learn Korean?',\n",
       " 'assistant': 'There\\'s no single \"best\" way to learn Korean, as it depends on your learning style, goals, and available resources. However, here\\'s a comprehensive approach that combines different methods:\\n\\n1. **Start with the Basics:**\\n    - Learn the Korean alphabet (Hangul) first. It\\'s relatively simple and phonetic, making it easier to start reading and writing.  You can find many resources online for learning Hangul, including apps, YouTube videos, and websites.\\n    - Familiarize yourself with basic Korean grammar. This includes sentence structure, verb conjugations, and common particles.\\n\\n2. **Immerse Yourself:**\\n    - **Language Exchange:** Find a Korean speaker to practice with. This could be online through language exchange platforms or in person through meetups. Speaking with a native speaker is invaluable for pronunciation and fluency.\\n    - **Korean Media:**  Watch Korean dramas, movies, and variety shows. While this might not be a structured learning method, it helps you get used to the language and learn new vocabulary.\\n    - **Korean Music:** Listen to K-pop and other Korean music. Pay attention to the lyrics and try to understand what they mean.\\n\\n3. **Use Study Materials:**\\n    - **Textbooks and Workbooks:** These provide structured learning materials with grammar explanations, vocabulary lists, and practice exercises.\\n    - **Language Learning Apps:** Apps like Duolingo, Memrise, and Rosetta Stone can help you learn vocabulary, grammar, and pronunciation through interactive lessons and games.\\n    - **Flashcards:** Create or purchase flashcards to memorize vocabulary and grammar concepts.\\n\\n4. **Consistency is Key:**\\n    - Set aside dedicated time for studying Korean regularly. Even short sessions (15-30 minutes) daily are better than sporadic long study sessions.\\n    - Track your progress and celebrate your achievements. This will keep you motivated.\\n\\n5. **Don\\'t be Afraid to Make Mistakes:**\\n    - Mistakes are part of the learning process. Don\\'t be afraid to speak, even if you\\'re not perfect. The more you practice, the faster you\\'ll improve.\\n\\nRemember, learning a new language is a journey. Be patient, persistent, and most importantly, enjoy the process!'}"
      ]
     },
     "execution_count": 23,
     "metadata": {},
     "output_type": "execute_result"
    }
   ],
   "source": [
    "ds._data[0]"
   ]
  },
  {
   "cell_type": "code",
   "execution_count": 24,
   "metadata": {},
   "outputs": [],
   "source": [
    "k = ds[0]"
   ]
  },
  {
   "cell_type": "code",
   "execution_count": 25,
   "metadata": {},
   "outputs": [
    {
     "data": {
      "text/plain": [
       "[Message(role='user', content='Can you write a poem about a lonely lighthouse keeper?', masked=True, ipython=False, eot=True),\n",
       " Message(role='assistant', content=\"The wind howls a mournful tune,\\nAcross the gray and churning sea,\\nThe lonely lighthouse keeper's moon,\\nHangs heavy in the endless spree.\\n\\nHe watches as the waves crash down,\\nWith silent, watchful, steady gaze,\\nNo solace in the bustling town,\\nJust endless sky and misty haze.\\n\\nThe beacon's light, a guiding hand,\\nTo ships that sail through stormy night,\\nA lonely man, a lonely land,\\nHe keeps the darkness burning bright.\\n\\nHe dreams of warmth, of laughter's chime,\\nOf faces kind and friendly hand,\\nHe dreams of home, of love's sweet rhyme,\\nA life beyond this lonely sand.\", masked=False, ipython=False, eot=True)]"
      ]
     },
     "execution_count": 25,
     "metadata": {},
     "output_type": "execute_result"
    }
   ],
   "source": [
    "ds._convert_to_messages(ds._data[4])"
   ]
  },
  {
   "cell_type": "code",
   "execution_count": 26,
   "metadata": {},
   "outputs": [],
   "source": [
    "kds = kowiki_dataset(\n",
    "    tokenizer=tokenizer,\n",
    "    max_seq_len=1536,\n",
    "    data_files='data/20240520/kowikitext_20240520.csv',\n",
    "    split='train'\n",
    ")"
   ]
  },
  {
   "cell_type": "code",
   "execution_count": 28,
   "metadata": {},
   "outputs": [
    {
     "data": {
      "text/plain": [
       "{'text': '= 플라톤 =\\n\\n플라톤(, 플라톤, \"넓은, 어깨 폭이 넓은\";Diogenes Laertius 3.4; ; Seneca, Epistulae, VI, 58, 30: illi nomen latitudo pectoris fecerat., ; 기원전 428년/기원전 427년 또는 기원전 424년/기원전 424년  ~ 기원전 348년/기원전 347년)은 다양한 서양 학문에 영향력 있는 그리스의 철학자이자 사상가, 객관적 관념론(objective idealism)의 창시자이다. 그는 소크라테스의 제자, 아리스토텔레스의 스승이며, 대학의 원형인 고등 교육 기관 ‘아카데메이아’의 교육자이다.\\n\\n플라톤은 아카데메이아에서 폭넓은 주제를 강의하였으며, 특히 정치학, 윤리학, 형이상학, 인식론 등 많은 철학적 논점에 관해 저술하였다. 플라톤 저술 가운데 가장 중요한 게 그의 대화편이다. 비록 일부 편지는 단지 그의 이름을 붙여서 전해지지만, 플라톤이 쓴 진짜 대화편은 모두 온전하게 전해진 것으로 여긴다. 그러나 학자들의 합의에 따라, 그리스인들이 플라톤의 것으로 생각하는 ‘알키비아데스 I’과 ‘클레이토폰’ 등과 같은 대화편은 의심스러우며 ‘데모도코스’와 ‘알키비아데스 II’ 등과 같은 대화편은 대개 위조되었다고 판단한다. 편지는 거의 모두 위조되었다고 대개 여기며, 예외로 일곱 번째 편지만 위조되지 않았을 가능성이 있다.\\n\\n소크라테스는 플라톤의 대화편에 자주 등장하는 주요 등장인물이다. 플라톤의 대화편에 있는 내용과 주장 가운데 무엇이 소크라테스의 것이고 플라톤의 것인지에 관해 많은 논쟁이 있었다. 왜냐하면 소크라테스는 남긴 저술이 없기 때문이다. 이 문제를 종종 ‘소크라테스의 문제’라고 부른다. 그러나 플라톤은 소크라테스의 가르침에 많은 영향을 받았다는 게 확실하다. 따라서 수많은 플라톤의 아이디어, 적어도 그의 초기 연구는 소크라테스에게서 가져오거나 발전시켰을 것이다.\\n\\n그가 이성 우위의 전통을 가진 서양 철학에 미친 영향은 더할 수 없이 크다. 영국 철학자인 화이트헤드는 “서양의 2000년 철학은 모두 플라톤의 각주에 불과하다”라고 말했으며, 시인 에머슨은 “철학은 플라톤이고, 플라톤은 철학이다”라고 평하였다.\\n\\n= = 삶  = =\\n\\n플라톤은 아테네의 명문 가정에서 태어났다. 젊었을 때 소크라테스에게 배우고 결정적인 영향을 받았는데, 그의 저서는 모두 소크라테스가 주인공으로 된 변증론에 관한 대화편이어서 그와 스승과의 학설을 구별하기 힘들다. 스승 소크라테스의 죽음에 큰 충격을 받은 그는 정치가로서의 꿈을 버리고 정의를 가르치기로 결심하였다. 이탈리아를 여행하여 키레네 학파로부터 이데아와 변증법의 기초를 얻었고, 피타고라스 학파를 접하며 실천적 정신과 실생활에의 흥미를 얻어 그의 독자적인 사상을 반성하게 되었다.\\n\\n그 사이 소크라테스의 변론, 〈크리톤〉, 〈라케스〉 등을 쓰고, 40세에 귀국하여 〈고르기아스〉, 〈대(大)히피아스〉, 〈소(小) 히피아스〉를 썼다.\\n\\n그는 그의 이상 국가를 실현해 보고자 친구인 디온의 권고로 시켈리아의 참주 디오니시오스 1세의 초청에 응하였으나, 그의 과두 정치를 비난함으로써 분노를 얻어 노예로 팔리기까지 하였다. 후에 그의 저작을 본 퀴레네 사람 덕분에 구출되어 귀국할 수 있었다.\\n\\n이후 아카데메이아 학원을 건립하고 제자 양성에 전력하면서 저작에 몰두하였다. 〈향연〉, 〈파이돈〉, 〈국가〉, 〈파이드로스〉 등 주요 저술이 여기서 이루어졌고, 이 학원은 529년까지 계속되었다. 대학교의 초기 형태인 ‘아카데미’(Academy)라는 말은 여기에서 비롯된다.\\n\\n기원전 357년 디오니시오스 2세의 간청을 받자 망설이던 끝에 다시 시켈리아로 가서 이상 정치를 펴보려 하였으나, 실패하고 1년 만에 귀국하여 〈법률〉 등 몇 개의 저서를 더 쓴 뒤 81세에 세상을 떠났다.\\n\\n= = 이데아론  = =\\n\\n플라톤은 ⟪파이돈⟫부터 스승 소크라테스의 사상에서 독립하여 이데아론이라고 불리는 독자적인 학설을 제창하였다. 우리가 삼각형을 생각할 경우에 현실적으로 삼각형을 아무리 정확하게 그린다고 해도 어느 하나도 완전하게 그려 낼 수 없다. 그것은 이미 한 변의 직선마저 완전하게 긋지 못하기 때문이다. 그럼에도 불구하고 우리는 완전한 직선, 완전한 삼각형이 있음을 부정하지 않으며 그 존재를 인정하고 계산도 하여 해답한다. 결국 현실에 있어서 눈으로 볼 수는 없지만 그 존재를 인정하고 있는 셈이다. 현실의 삼각형은 이 이데아를 인정하는 까닭에 삼각형으로 인식할 수가 있다고 하겠다.\\n\\n수학의 대상뿐만 아니라 선(善)의, 미(美)의, 용기의 이데아라는 것도 거기에서 생각해 낼 수 있다. 현실적으로는 완전한 선은 좀처럼 찾아볼 수가 없겠으나 완전한 선의 이데아는 틀림없이 있을 것이다. 만약 그렇지 않다면 그것보다 이것이 낫다고 하는 비교는 할 수 없게 된다. 아름다운 꽃은 조락(凋落)하고 아름다운 경치가 폐허가 되어도 아름다움 자체는 그것 때문에 없어지지 않는다. 이것이 미의 이데아이다. 이 미의 이데아에 현실의 개체가 의탁될 때에 비로소 아름다운 개체가 된다. 즉 미의 이데아는 아름다운 개체의 원인이다.\\n\\n사람의 영혼은 원래 이러한 이데아계(界)에 있었는데 육체를 갖추고 이데아를 망각하여 지상으로 내려왔다고 그는 말한다. 그러므로 진·선·미를 인식하는 것은 영혼이 원래 살던 이데아계를 상기하는 것과 같다는 상기설을 주장하였다.\\n\\n= = ‘플라톤의 교육관’ 목적  = =\\n\\n그는 인간의 영혼이 육체와 결합된 충동적이며 감각적 욕망을 추구하는 정욕과, 육체와 결합되지 않으며 불사적인 순수한 이성으로 되어 있다고 하고, \\'이성\\'은 매우 순수한 것이지만 이 세계의 배후에 있는 완전 지성 실체계인 이데아를 직관할 수 없으며 세상에 탄생하여 육체 속에 듦으로써 이데아를 잊고 있다. 이 잊었던 이데아를 동경하는 마음이 에로스이며, 현상을 보고 그 원형인 이데아를 \\'상기\\'하여(상기설), 인식하는 것이 진리라고 한다. 그리고 인간의 이성적 부분의 덕이 지혜이며, 정욕적 부분의 덕을 절제, 이성의 명령에 복종하여 정욕을 억압하는 기개의 덕을 용기라고 하는 것이다. \\'올바름(dikaiosyne, 또는 \\'정의\\')란 여러 덕이 알맞게 그 기능을 발휘할 때의 상태를 말한다.\\' 그는 이러한 덕론을 통하여 인간 개인의 윤리학을 논하였다. 그러나 정의의 실현은 개인의 덕을 달성하는 것으로 이루어지지 않는다고 하여 사회 전체의 윤리설을 주장하였다. 그것이 그의 \\'국가(Politeia)\\'이다.\\n\\n= = 플라톤의 교육방법  = =\\n\\n그는 국가를 개인의 확대로 생각하여 개인에 있어서의 정욕의 부분이 농·공·상업의 서민이며, 기개의 부분은 군인·관리, 이성의 부분은 통치자라고 하고, 이성은 당연히 선의 이데아를 인식하여야 하므로 \"철학자가 왕이 되거나, 왕이 철학을 해야 한다\"고 하는 유명한 철인 정치론을 전개했다. 이러한 통치자의 교육 제도와 방법에서 그의 교육학을 엿볼 수 있다.\\n\\n플라톤은 교육을 5단계로 나누었다.\\n\\n첫째 단계는 출생부터 17세까지로서, 이 시기는 기초적인 도야(陶冶)의 단계로 보아, 문예·음악·조형미술 등 비교적 수준이 낮은 지적 도야 및 일반적으로 정서적 방면에 해당되는 학예와 체육을 주로 하였다. 체육도 단지 육체의 단련만을 위한 것이 아니고 그 이상의 정신적 도야를 위한 것이었다. 이들 과목은 유희적인 방법으로 가르치게 하였고, 이런 자유로운 학습활동을 하는 가운데 각자의 개성이 발견되게 하였다.\\n\\n둘째 단계는 17세부터 20세까지로, 이 시기의 교육은 군사훈련의 기초가 되게 하며, 어떤 곤경에도 참아낼 수 있는 강인한 심신을 기르기 위하여 체육만을 전수시킬 것을 주장했다. 이 과정을 통하여 성적이 불량한 자는 생산자 계급으로 남게 했다.\\n\\n셋째 단계는 20세에서 30세까지로, 이 시기에는 철학의 예비교과로써 수학·기하·천문·음악 이론을 체계적으로 배우게 했다. 이 시기에 성적이 불량한 자는 군인으로 남게 했다.\\n\\n넷째 단계는 30세에서 36세까지로서, 이때에는 전적으로 협의(狹義)의 변증법을 배웠다. 이 시기에는 감각적인 것을 떠나 순수하게 관념적으로 사물의 본질을 취급하는 시기로 설정하였다.\\n\\n다섯째 단계는 35세에서 50세까지로서, 이 시기를 플라톤은 \\'동굴에 들어가는 시기\\'로 비유하였다. 이때가 되면 인간은 속세에 나와 군사와 정치를 실습·연구하고, 풍부한 경험과 견문을 쌓는다.\\n\\n50세 이후에는 평생토록 변증법의 초보적인 대상인 선(善)의 이데아를 연구하고, 교대로 정치를 맡으며 후진을 교육한다. 플라톤이 주장했고 또한 \\'아카데미아\\'에서 실행한 교육방법은 소크라테스적 방법이었다. 그것은 소피스트들의 논쟁술·궤변술에 빠지는 대화법이 아닌, 자기 성찰과 진리탐구를 위한 방법이며, 생명이 없고 또 문자에 의한 교육이 아닌 살아 있는 말을 존중하는 대화법이었다.\\n\\n= = 아동발달 연구  = =\\n\\n플라톤은 국가에서 인간발달에는 세 가지 국면이 있는데, 그것은 욕망, 정신, 그리고 신성이라고 하였다. 가장 낮은 수준의 욕망(desire)은 오늘날 본능, 욕구, 충동으로도 표현되며, 프로이드의 정신분석이론에서 말하는 원초아의 개념과도 비슷하다. 플라톤에 의하면 욕망은 주로 신체적 욕구만족과 관련되어 있다. 그 다음 수준인 정신은 용기, 확신, 절제, 인내, 대담과 같은 개념이며, 최고의 수준인 신성은 초자연적이고 영원하며 우주의 본질을 이룬다. 이것은 진정한 의미의 정신으로서 오늘날 이성으로 표현된다. 플라톤은 이미 그 시대에 인간이 성장함에 따라 낮은 수준이 높은 수준으로 대체되는 과정이 발달이라는 생각을 했다.\\n\\n플라톤에 의하면 3세까지 유아는 공포나 고통, 슬픔의 감정을 경험해서는 안된다고 한다. “유아기는 그 어느 시기보다도 습관에 의해 성격이 뿌리를 내리게 된다.”(Platon, 1953)면서 유아에게 쾌락을 제공하는 것은 아이를 버려놓는 일이라고 주장하였다. 플라톤은 성격형성에 있어서 초기경험의 중요성을 강조하였지만, 살아가면서 여러 가지 경험에 의해 인간의 성격이 수정될 수 있다는 점 또한 인정하였다. 아동기에는 이성이 성숙되지 않기 때문에 아동교육은 주로 음악이나 스포츠 등에 중점을 두고 같은 또래와 어울림으로써 사회성발달이 이루어져야 한다고 한다. 플라톤은 6세가 되면 “남자아이들은 남자아이들끼리 놀게 하고, 여자아이들은 여자아이들끼리 놀게 하라”고 하면서 성의 분리를 주장하였는데, 이것은 우리나라 전통 아동교육에서의 ‘남녀칠세부동석’ 개념과 유사하다.\\n\\n청년기가 되면 최고의 국면인 이성이 비로소 나타나기 시작한다. 이때는 이성적, 비판적 사고를 할 수 있기 때문에, 교육과정을 과학이나 수학으로 대체하는 것이 좋다고 한다.\\n플라톤은 국가에서 교육철학의 개념을 발전시켰다. 그는 교육을 환경의 영향을 받는 정신의 발달이라고 해석하였다. 플라톤은 이미 그 때 개인차의 중요성을 인정하고 우리 인간은 각기 다른 능력을 가지고 태어나므로, 각기 적성에 알맞은 일에 종사할 것을 권장하고 있다(Muuss, 1996).\\n\\n= = 철인 정치  = =\\n\\n철인 정치론을 전개한 플라톤은 기본적으로 엘리트에 의한 지배를 옹호한다. 일반적으로 귀족정은 평등사회가 아닌 신분사회를 옹호하는 데, 플라톤 또한 신분사회를 옹호한다. 그러나 그가 말하는 귀족정의 궁극적인 목적과 그 실현 양태는 일반적인 귀족정과는 다른 것이었다. 그가 말하는 귀족정에서의 왕은 ‘노블레스 오블리주’와 같은 높은 신분으로서 도덕적 의무를 중시해야 하는데, 그 실현은 한가지 예를 들면 왕의 사유재산의 형태로 나타난다. 플라톤은 왕의 사유재산은 오직 공익을 위해서만 쓰여야한다(공유해야 한다)고 했다. 그렇다고 그 밑의 귀족들까지도 사유재산을 공유하자는 것이 아니라, 가장 높은 신분의 상징인 왕이라면 그만큼의 도덕적 의무를 실천해야함을 이야기하는 것이다. 또한 정치 일선을 담당한 일선 ‘귀족’들은 흔히 우리가 알고 있는 무사 계급에 기반한 귀족 또는 세습에 의한 귀족이 아니라, 철학 지식이 충만한 철학자들을 가리킨다. 그는 ‘지식인에 의한 독재’를 줄곧 주장해왔으며, 시민 계급에 의한 토론 정치인 아테네의 민주정을 ‘우민 정치’라고 비판해 왔다.\\n\\n뿐만 아니라 그의 ‘세 가지 주된 덕’(cardinal virtues)에서는 ‘조화’라는 것을 엿볼 수 있는 데, ‘네가지 주된 덕’에 맞는 각각의 신분이 각자 맡은 일만을 해야하며 그것이 조화를 이루어야 한다는 것이다. 서로 다른 일을 한다거나 서민이 전쟁을 한다는 것과 같은 용기를 보이는 것은 플라톤의 관점에선 ‘사회적 부조화’를 야기한다는 것이다.\\n\\n= = 초기 공산주의  = =\\n\\n오늘날 공산주의라고 하면 일컬어지는 \\'마르크스주의\\'의 철학적 전제들과 큰 차이를 보이지만, 인간은 정치·사회적으로 독립될 수 없는 개인이며, 더 나은 정치·, 사회 체제를 만드려는 것이 인류의 행복을 증진시키는 진리라고 설파했다. 또한 인간은 더 나은 사회를 구성하기 위해서 \\'이성적 존재\\'가 되어야 하는 \\'의무\\'가 부여된 존재라는 목적론적 인간관이란 개념을 만들었기 때문에 초기 관념적 공산주의 기조의 창시자라고 알려졌다. 이 개념은 아리스토텔레스의 윤리학으로 계승이 되기도 했다.\\n\\n= = 저작  = =\\n\\n현존하는 저작의 대부분은 대화편 형식을 취하고 있으며, 일부의 예외를 제외하고, 플라톤의 스승인 소크라테스를 주요 해설자로 한다.카를 포퍼, 열린 사회와 그 적들, 未來社)사사키 다케시, 플라톤의 주박, 코단샤 학술 문고현대 용어의 기초 지식, 자유국민사 1981년 90p난바라 시게루, 정치 철학 서설, 1973년\\n\\n35편의 대화편과 13편의 서간은 전통적으로 플라톤의 것으로 여겨졌으나 현대 학자들은 최소한 일부 저작에 대해서는 진위 여부를 의심하고 있다. 플라톤의 저작은 여러 방식으로 간행된 바 있는데, 그에 따라 플라톤의 글을 명명하고 배열하는 방식도 여러 가지가 되었다.\\n\\n플라톤의 글을 분류하는 일반적인 방식은 16세기 앙리 에티엔(헨리쿠스 스테파누스)의 플라톤 판본에서 비롯되었다.\\n\\n또 플라톤의 글을 배열하는 방식으로 4부극에 따르는 전통이 있었는데, 디오게네스 라에르티오스는 이 방식이 고대의 학자이자 티베리우스 황제의 궁정 점성가였던 트라쉬불로스의 것이라고 여겼다.\\n\\n아래 플라톤의 저작 목록에서 학자간에 플라톤이 쓴 글인지 합의가 되어 있지 않은 책은 (1) 표시를, 그리고 일반적으로 플라톤의 저작이 아닌 것으로 여겨지는 책은 (2) 표시를 달았다. 표시가 없는 저작은 플라톤이 쓴 것으로 여겨진다.\\n\\n그 밖에 저작은 플라톤의 이름을 빌었으나 상당수는 고대에 이미 위작으로 여겨졌으며, 트라쉴로스는 자신의 4부극식 저작 배열에서 이런 류를 넣지 않았다. 아래 작품은 \"위작\"(Notheuomenoi) 또는 \"위서\"(Apocrypha)라 불린다.\\n\\n= = 한국어 번역  = =\\n\\n소크라테스의 변명\\n《소크라테스의 변명》, 강철웅 역, 아카넷, 2020년.\\n《소크라테스의 변명》, 강철웅 역, 이제이북스, 2014년.\\n《소크라테스의 변론》, 천병희 역, 숲, 2012년.\\n카르미데스\\n《카르미데스》, 유혁 역, 아카넷, 2021년.\\n크리톤\\n《크리톤》, 이기백 역, 아카넷, 2020년.\\n《크리톤》, 이기백 역, 이제이북스, 2009년.\\n《크리톤》, 천병희 역, 숲, 2012년.\\n에우튀프론\\n《에우튀프론》, 강성훈 역, 아카넷, 2021년.\\n《에우티프론》, 박종현 역, 서광사, 2003년.\\n고르기아스\\n《고르기아스》, 김인곤 역, 아카넷, 2021년.\\n《고르기아스》, 김인곤 역, 이제이북스, 2011년.\\n소 히피아스\\n대 히피아스\\n이온\\n《이온》, 천병희 역, 숲, 2014년\\n라케스\\n《라케스》, 한경자 역, 아카넷, 2020년.\\n《라케스》, 한경자 역, 이제이북스, 2014년.\\n뤼시스\\n《뤼시스》, 강철웅 역, 아카넷, 2021년.\\n《뤼시스》, 강철웅 역, 이제이북스, 2007년.\\n프로타고라스\\n《프로타고라스》, 강성훈 역, 아카넷, 2021년.\\n《프로타고라스》, 강성훈 역, 이제이북스, 2012년.\\n크라튈로스\\n《크라튈로스》, 김인곤 이기백 역, 아카넷, 2021년.\\n《크라튈로스》, 김인곤 이기백 역, 이제이북스, 2007년.\\n에우튀데모스\\n《에우튀데모스》, 김주일 역, 아카넷, 2019년.\\n《에우튀데모스》, 김주일 역, 이제이북스, 2008년.\\n메논\\n《메논》, 이상인 역, 아카넷, 2019년.\\n《메논》, 이상인 역, 이제이북스, 2009년.\\n파르메니데스\\n《파르메니데스》, 송영진 역, 철학과현실사, 2000년.\\n플라톤의 다섯 대화편 - 테아이테토스 / 필레보스 / 티마이오스 / 크리티아스 / 파르메니데스, 천병희 역, 도서출판 숲, 2016년.\\n파이돈\\n《파이돈》, 전헌상 역, 아카넷, 2020년.\\n《파이돈》, 전헌상 역, 이제이북스, 2013년.\\n《파이돈》, 천병희 역, 숲, 2012년.\\n파이드로스\\n《파이드로스》, 김주일 역, 아카넷, 2020년.\\n《파이드로스》, 김주일 역, 이제이북스, 2012년.\\n국가\\n《국가·정체(政體)》, 박종현 역, 서광사, 2005년 개정보증판.\\n향연\\n《향연》, 강철웅 역, 아카넷, 2020년.\\n《향연》, 강철웅 역, 이제이북스, 2010년.\\n《향연》, 천병희 역, 도서출판 숲, 2016년.\\n테아이테토스\\n《테아이테토스》, 정준영 역, 아카넷, 2022년.\\n《테아이테토스》, 정준영 역, 이제이북스, 2013년.\\n메넥세노스\\n《메넥세노스》, 이정호 역, 아카넷, 2021년.\\n《메넥세노스》, 이정호 역, 이제이북스, 2008년.\\n소피스트\\n《소피스트》, 이창우 역, 아카넷, 2019년.\\n《소피스트》, 이창우 역, 이제이북스, 2012년.\\n정치가\\n《정치가》, 김태경 역, 한길사, 2000년.\\n필레보스\\n《필레보스》, 이기백 역, 아카넷, 2020년\\n《필레보스》, 박종현 역, 서광사, 2004년.\\n《필레보스》, 이기백 역, 이제이북스, 2015년.\\n티마이오스\\n《티마이오스》, 김유석 역, 아카넷, 2019년\\n《티마이오스》, 박종현 역, 서광사, 2000년.\\n크리티아스\\n《크리티아스》, 이정호 역, 아카넷, 2020년.\\n《크리티아스》, 이정호 역, 이제이북스, 2007년.\\n법률\\n《법률》, 박종현 역, 서광사, 2009년.\\n《법률》, 천병희 역, 도서출판 숲, 2016년.\\n편지들\\n《편지들》, 강철웅 김주일 이정호 역, 아카넷, 2021년.\\n《편지들》, 강철웅 역, 이제이북스, 2009년.\\n알키비아데스 1\\n《알키비아데스 1·2》, 김주일 정준영 역, 아카넷, 2020년.\\n《알키비아데스 1》, 김주일 정준영 역, 이제이북스, 2007년.\\n알키비아데스 2\\n《알키비아데스 2》, 김주일 정준영 역, 이제이북스, 2007년.\\n에라스타이\\n《플라톤전집 7 - 알키비아데스 1.2 / 힙피아스 1.2 / 미노스 / 에피노미스 / 테아게스 / 클레이토폰 / 힙파르코스 / 연인들 / 서한집 / 용어 해설 / 위작들》 중 《연인들》, 천병희 역, 도서출판 숲, 2019년.\\n《미노스·사랑하는 사람들》 중 《사랑하는 사람들》, 강철웅 역, 아카넷, 2021년.\\n*미노스\\n《미노스·사랑하는 사람들》, 강철웅 역, 아카넷, 2021년.'}"
      ]
     },
     "execution_count": 28,
     "metadata": {},
     "output_type": "execute_result"
    }
   ],
   "source": [
    "kds._data[0]"
   ]
  },
  {
   "cell_type": "code",
   "execution_count": null,
   "metadata": {},
   "outputs": [],
   "source": []
  }
 ],
 "metadata": {
  "kernelspec": {
   "display_name": "llama3",
   "language": "python",
   "name": "python3"
  },
  "language_info": {
   "codemirror_mode": {
    "name": "ipython",
    "version": 3
   },
   "file_extension": ".py",
   "mimetype": "text/x-python",
   "name": "python",
   "nbconvert_exporter": "python",
   "pygments_lexer": "ipython3",
   "version": "3.11.9"
  }
 },
 "nbformat": 4,
 "nbformat_minor": 2
}
