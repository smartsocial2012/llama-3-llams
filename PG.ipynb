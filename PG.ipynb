{
 "cells": [
  {
   "cell_type": "code",
   "execution_count": 43,
   "metadata": {},
   "outputs": [],
   "source": [
    "import torch, torchtune, yaml\n",
    "from torchtune import config, utils\n",
    "from generate import InferenceRecipe\n",
    "from omegaconf import DictConfig\n",
    "from matplotlib import pyplot as plt"
   ]
  },
  {
   "cell_type": "code",
   "execution_count": 2,
   "metadata": {},
   "outputs": [],
   "source": [
    "adapter = torch.load('checkpoints/Llama-3-LLaMS/adapter_0.pt')"
   ]
  },
  {
   "cell_type": "code",
   "execution_count": 3,
   "metadata": {},
   "outputs": [],
   "source": [
    "weights = torch.load('checkpoints/Llama-3-LLaMS/meta_model_4.pt')"
   ]
  },
  {
   "cell_type": "code",
   "execution_count": 4,
   "metadata": {},
   "outputs": [
    {
     "data": {
      "text/plain": [
       "{'model': {'_component_': 'torchtune.models.llama3.llama3_8b'}, 'checkpointer': {'_component_': 'torchtune.utils.FullModelMetaCheckpointer', 'checkpoint_dir': 'checkpoints/Llama-3-LLaMS', 'checkpoint_files': ['meta_model_4.pt'], 'output_dir': 'checkpoints/Llama-3-LlaMS', 'model_type': 'LLAMA3'}, 'device': 'cuda', 'dtype': 'bf16', 'seed': 1234, 'tokenizer': {'_component_': 'torchtune.models.llama3.llama3_tokenizer', 'path': 'checkpoints/Meta-Llama-3-8B/original/tokenizer.model'}, 'prompt': 'Below is an instruction that describes a task. Write a response that appropriately completes the request. ### Instruction: 세종대왕은 대신들 때문에 화가 나서 맥북을 던졌다. ### Response:', 'max_new_tokens': 300, 'temperature': 0.6, 'top_k': 300, 'quantizer': None}"
      ]
     },
     "execution_count": 4,
     "metadata": {},
     "output_type": "execute_result"
    }
   ],
   "source": [
    "with open('./configs/llams_base_generation.yaml') as f:\n",
    "    config_dict = DictConfig(yaml.safe_load(f))\n",
    "config_dict"
   ]
  },
  {
   "cell_type": "code",
   "execution_count": 5,
   "metadata": {},
   "outputs": [
    {
     "name": "stderr",
     "output_type": "stream",
     "text": [
      "DEBUG:torchtune.utils.logging:Setting manual seed to local seed 1234. Local seed is seed + rank = 1234 + 0\n"
     ]
    }
   ],
   "source": [
    "a = InferenceRecipe(config_dict)"
   ]
  },
  {
   "cell_type": "code",
   "execution_count": 6,
   "metadata": {},
   "outputs": [
    {
     "name": "stderr",
     "output_type": "stream",
     "text": [
      "INFO:torchtune.utils.logging:Model is initialized with precision torch.bfloat16.\n"
     ]
    }
   ],
   "source": [
    "a.setup(config_dict)"
   ]
  },
  {
   "cell_type": "code",
   "execution_count": 7,
   "metadata": {},
   "outputs": [],
   "source": [
    "tokens = a._tokenizer.encode(config_dict.prompt, add_bos=True, add_eos=False)"
   ]
  },
  {
   "cell_type": "code",
   "execution_count": 8,
   "metadata": {},
   "outputs": [],
   "source": [
    "prompt = torch.tensor(tokens, dtype=torch.int, device=a._device)"
   ]
  },
  {
   "cell_type": "code",
   "execution_count": 19,
   "metadata": {},
   "outputs": [],
   "source": [
    "logits = a._model(prompt.view(1, -1), torch.arange(0, 45, device='cuda'))"
   ]
  },
  {
   "cell_type": "code",
   "execution_count": 35,
   "metadata": {},
   "outputs": [
    {
     "ename": "IndexError",
     "evalue": "too many indices for tensor of dimension 1",
     "output_type": "error",
     "traceback": [
      "\u001b[0;31m---------------------------------------------------------------------------\u001b[0m",
      "\u001b[0;31mIndexError\u001b[0m                                Traceback (most recent call last)",
      "Cell \u001b[0;32mIn[35], line 1\u001b[0m\n\u001b[0;32m----> 1\u001b[0m logits \u001b[38;5;241m=\u001b[39m \u001b[43mlogits\u001b[49m\u001b[43m[\u001b[49m\u001b[38;5;241;43m0\u001b[39;49m\u001b[43m,\u001b[49m\u001b[43m \u001b[49m\u001b[38;5;241;43m-\u001b[39;49m\u001b[38;5;241;43m1\u001b[39;49m\u001b[43m]\u001b[49m\n",
      "\u001b[0;31mIndexError\u001b[0m: too many indices for tensor of dimension 1"
     ]
    }
   ],
   "source": [
    "logits = logits[0, -1]"
   ]
  },
  {
   "cell_type": "code",
   "execution_count": 37,
   "metadata": {},
   "outputs": [],
   "source": [
    "v, t = torch.topk(logits, 10)"
   ]
  },
  {
   "cell_type": "code",
   "execution_count": 38,
   "metadata": {},
   "outputs": [],
   "source": [
    "pivot = v.select(-1, -1).unsqueeze(-1)"
   ]
  },
  {
   "cell_type": "code",
   "execution_count": 39,
   "metadata": {},
   "outputs": [],
   "source": [
    "logits = torch.where(logits < pivot, -float(\"inf\"), logits)"
   ]
  },
  {
   "cell_type": "code",
   "execution_count": 41,
   "metadata": {},
   "outputs": [],
   "source": [
    "probs = torch.nn.functional.softmax(logits, dim=-1)"
   ]
  },
  {
   "cell_type": "code",
   "execution_count": 55,
   "metadata": {},
   "outputs": [],
   "source": [
    "q = torch.empty_like(probs).exponential_(1)"
   ]
  },
  {
   "cell_type": "code",
   "execution_count": 56,
   "metadata": {},
   "outputs": [],
   "source": [
    "sample = torch.argmax(probs / q, dim=-1, keepdim=True).to(dtype=torch.int)"
   ]
  },
  {
   "cell_type": "code",
   "execution_count": 65,
   "metadata": {},
   "outputs": [
    {
     "data": {
      "text/plain": [
       "'Below is an instruction that describes a task. Write a response that appropriately completes the request. ### Instruction: 세종대왕은 대신들 때문에 화가 나서 맥북을 던졌다. ### Response: 이는'"
      ]
     },
     "execution_count": 65,
     "metadata": {},
     "output_type": "execute_result"
    }
   ],
   "source": [
    "a._tokenizer.decode(torch.cat([prompt, sample]).tolist())"
   ]
  },
  {
   "cell_type": "code",
   "execution_count": 51,
   "metadata": {},
   "outputs": [],
   "source": [
    "input_pos = torch.tensor([prompt.size(0)])"
   ]
  },
  {
   "cell_type": "code",
   "execution_count": 53,
   "metadata": {},
   "outputs": [
    {
     "data": {
      "text/plain": [
       "tensor([[128000,  39314,    374,    459,   7754,    430,  16964,    264,   3465,\n",
       "             13,   9842,    264,   2077,    430,  36001,  45695,    279,   1715,\n",
       "             13,  17010,  30151,     25, 101852, 102757,  67945, 108668,  34804,\n",
       "          62060,  83628,  65950, 109644, 104323,  20565,  74618,  27796, 124191,\n",
       "         103825,  18359, 101012,    246, 111340,     13,  17010,   6075,     25]],\n",
       "       device='cuda:0', dtype=torch.int32)"
      ]
     },
     "execution_count": 53,
     "metadata": {},
     "output_type": "execute_result"
    }
   ],
   "source": [
    "prompt.view(1, -1)"
   ]
  }
 ],
 "metadata": {
  "kernelspec": {
   "display_name": "llama3",
   "language": "python",
   "name": "python3"
  },
  "language_info": {
   "codemirror_mode": {
    "name": "ipython",
    "version": 3
   },
   "file_extension": ".py",
   "mimetype": "text/x-python",
   "name": "python",
   "nbconvert_exporter": "python",
   "pygments_lexer": "ipython3",
   "version": "3.11.9"
  }
 },
 "nbformat": 4,
 "nbformat_minor": 2
}
