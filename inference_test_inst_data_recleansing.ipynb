{
 "cells": [
  {
   "cell_type": "code",
   "execution_count": 1,
   "metadata": {},
   "outputs": [],
   "source": [
    "import torch, torchtune, yaml\n",
    "from torchtune import config, utils\n",
    "from torchtune.models.llama3 import llama3_tokenizer\n",
    "from torchtune.data import AlpacaInstructTemplate\n",
    "from torchtune.datasets import chat_dataset\n",
    "from torchtuning import custom_chat_dataset, custom_instruction_dataset\n",
    "import pandas as pd, os\n",
    "import itertools"
   ]
  },
  {
   "cell_type": "code",
   "execution_count": 6,
   "metadata": {},
   "outputs": [],
   "source": [
    "from torchtuning._chat_datasets import chat_format"
   ]
  },
  {
   "cell_type": "code",
   "execution_count": 2,
   "metadata": {},
   "outputs": [],
   "source": [
    "tokenizer = llama3_tokenizer('checkpoints/Meta-Llama-3-8B-Instruct/original/tokenizer.model')"
   ]
  },
  {
   "cell_type": "code",
   "execution_count": 3,
   "metadata": {},
   "outputs": [],
   "source": [
    "# ds = custom_instruction_dataset(\n",
    "#     tokenizer=tokenizer,\n",
    "#     source='csv',\n",
    "#     data_files='data/inst_data_en_ko.csv',\n",
    "#     split='train',\n",
    "#     max_seq_len=2048,\n",
    "#     column_map={\n",
    "#         'input': 'user',\n",
    "#         'output': 'assistant'\n",
    "#     }\n",
    "# )"
   ]
  },
  {
   "cell_type": "code",
   "execution_count": 4,
   "metadata": {},
   "outputs": [],
   "source": [
    "ds = custom_chat_dataset(\n",
    "    tokenizer=tokenizer,\n",
    "    source='csv',\n",
    "    data_files='data/inst_data_en_ko.csv',\n",
    "    split='train',\n",
    "    max_seq_len=2048,\n",
    ")"
   ]
  },
  {
   "cell_type": "code",
   "execution_count": 9,
   "metadata": {},
   "outputs": [
    {
     "data": {
      "text/plain": [
       "[Message(role='system', content=\"You are a assistant is named 'Arch AI' and developed by (주)스마트소셜(SmartSocial, Inc in English).\\nYou have to do your best to help `user` who is chatting with you.\\nTry to answer in the language the user asked the question.\\n\", masked=True, ipython=False, eot=True),\n",
       " Message(role='user', content='한국어를 배우는 가장 좋은 방법은 뭐야?', masked=True, ipython=False, eot=True),\n",
       " Message(role='assistant', content='한국어를 배우는 가장 좋은 방법은 개인의 학습 스타일, 목표, 그리고 사용 가능한 자료에 따라 다르기 때문에 단 하나의 정답은 없습니다. 하지만, 다양한 방법을 결합한 포괄적인 접근 방식을 소개해 드릴게요.\\n\\n1. **기본부터 시작하기:**\\n    - 먼저 한국어 알파벳 (한글)을 배우세요. 한글은 비교적 간단하고 발음대로 적혀 있어서 읽고 쓰는 것을 쉽게 시작할 수 있습니다. 한글 학습을 위한 앱, 유튜브 동영상, 웹사이트 등 온라인 자료가 많이 있으니 활용해보세요.\\n    - 기본 한국어 문법을 익히세요. 문장 구조, 동사 활용, 흔히 쓰이는 조사 등을 포함합니다.\\n\\n2. **몰입하기:**\\n    - **언어 교환:** 한국어를 사용하는 사람과 함께 연습할 기회를 찾으세요. 언어 교환 플랫폼을 통해 온라인으로 또는 만남을 통해 오프라인으로 할 수 있습니다. 원어민과 직접 대화하는 것은 발음과 유창성 향상에 큰 도움이 됩니다.\\n    - **한국어 미디어:** 한국 드라마, 영화, 예능 프로그램을 시청하세요. 구조적인 학습 방법은 아니지만, 한국어에 익숙해지고 새로운 단어를 배우는 데 도움이 됩니다.\\n    - **한국 음악:** K-팝과 다른 한국 음악을 들어보세요. 가사에 주의 깊게 귀 기울이고 의미를 파악하려고 노력하세요.\\n\\n3. **학습 자료 활용하기:**\\n    - **교재와 연습 문제집:** 문법 설명, 단어 목록, 연습 문제가 포함된 체계적인 학습 자료를 제공합니다.\\n    - **언어 학습 앱:** 듀오링고, 멤리즈, 로제타 스톤과 같은 앱은 인터랙티브한 수업과 게임을 통해 단어, 문법, 발음을 배우는 데 도움이 됩니다.\\n    - **플래시 카드:** 단어와 문법 개념을 암기하기 위해 플래시 카드를 만들거나 구매하세요.\\n\\n4. **꾸준함이 중요합니다:**\\n    - 한국어 학습을 위해 매일 일정 시간을 할애하세요. 짧은 시간 (15-30분) 이라도 매일 꾸준히 하는 것이 불규칙적으로 오랜 시간 공부하는 것보다 효과적입니다.\\n    - 학습 진행 상황을 기록하고 성과를 축하하세요. 동기 부여를 유지하는 데 도움이 됩니다.\\n\\n5. **실수를 두려워하지 마세요:**\\n    - 실수는 학습 과정의 일부입니다. 완벽하지 않더라도 말하는 것을 두려워하지 마세요. 연습할수록 더 빠르게 실력이 향상됩니다.\\n\\n새로운 언어를 배우는 것은 긴 여정입니다. 인내심을 가지고 꾸준히 노력하세요. 무엇보다도 과정을 즐기세요!', masked=False, ipython=False, eot=True)]"
      ]
     },
     "execution_count": 9,
     "metadata": {},
     "output_type": "execute_result"
    }
   ],
   "source": [
    "messages = ds._convert_to_messages(ds._data[1])\n",
    "messages"
   ]
  },
  {
   "cell_type": "code",
   "execution_count": 19,
   "metadata": {},
   "outputs": [
    {
     "data": {
      "text/plain": [
       "''"
      ]
     },
     "execution_count": 19,
     "metadata": {},
     "output_type": "execute_result"
    }
   ],
   "source": [
    "tokenizer.decode([ds[1][0][0]])"
   ]
  },
  {
   "cell_type": "code",
   "execution_count": 21,
   "metadata": {},
   "outputs": [
    {
     "data": {
      "text/plain": [
       "Message(role='system', content=\"You are a assistant is named 'Arch AI' and developed by (주)스마트소셜(SmartSocial, Inc in English).\\nYou have to do your best to help `user` who is chatting with you.\\nTry to answer in the language the user asked the question.\\n\", masked=True, ipython=False, eot=True)"
      ]
     },
     "execution_count": 21,
     "metadata": {},
     "output_type": "execute_result"
    }
   ],
   "source": [
    "messages[0]"
   ]
  },
  {
   "cell_type": "code",
   "execution_count": 20,
   "metadata": {},
   "outputs": [
    {
     "data": {
      "text/plain": [
       "(128000, 128006)"
      ]
     },
     "execution_count": 20,
     "metadata": {},
     "output_type": "execute_result"
    }
   ],
   "source": [
    "tokenizer.bos_id, tokenizer.start_header_id"
   ]
  },
  {
   "cell_type": "code",
   "execution_count": 22,
   "metadata": {},
   "outputs": [
    {
     "name": "stdout",
     "output_type": "stream",
     "text": [
      "<|start_header_id|>system<|end_header_id|>\n",
      "\n",
      "You are a assistant is named 'Arch AI' and developed by (주)스마트소셜(SmartSocial, Inc in English).\n",
      "You have to do your best to help `user` who is chatting with you.\n",
      "Try to answer in the language the user asked the question.<|eot_id|><|start_header_id|>user<|end_header_id|>\n",
      "\n",
      "한국어를 배우는 가장 좋은 방법은 뭐야?<|eot_id|><|start_header_id|>assistant<|end_header_id|>\n",
      "\n",
      "한국어를 배우는 가장 좋은 방법은 개인의 학습 스타일, 목표, 그리고 사용 가능한 자료에 따라 다르기 때문에 단 하나의 정답은 없습니다. 하지만, 다양한 방법을 결합한 포괄적인 접근 방식을 소개해 드릴게요.\n",
      "\n",
      "1. **기본부터 시작하기:**\n",
      "    - 먼저 한국어 알파벳 (한글)을 배우세요. 한글은 비교적 간단하고 발음대로 적혀 있어서 읽고 쓰는 것을 쉽게 시작할 수 있습니다. 한글 학습을 위한 앱, 유튜브 동영상, 웹사이트 등 온라인 자료가 많이 있으니 활용해보세요.\n",
      "    - 기본 한국어 문법을 익히세요. 문장 구조, 동사 활용, 흔히 쓰이는 조사 등을 포함합니다.\n",
      "\n",
      "2. **몰입하기:**\n",
      "    - **언어 교환:** 한국어를 사용하는 사람과 함께 연습할 기회를 찾으세요. 언어 교환 플랫폼을 통해 온라인으로 또는 만남을 통해 오프라인으로 할 수 있습니다. 원어민과 직접 대화하는 것은 발음과 유창성 향상에 큰 도움이 됩니다.\n",
      "    - **한국어 미디어:** 한국 드라마, 영화, 예능 프로그램을 시청하세요. 구조적인 학습 방법은 아니지만, 한국어에 익숙해지고 새로운 단어를 배우는 데 도움이 됩니다.\n",
      "    - **한국 음악:** K-팝과 다른 한국 음악을 들어보세요. 가사에 주의 깊게 귀 기울이고 의미를 파악하려고 노력하세요.\n",
      "\n",
      "3. **학습 자료 활용하기:**\n",
      "    - **교재와 연습 문제집:** 문법 설명, 단어 목록, 연습 문제가 포함된 체계적인 학습 자료를 제공합니다.\n",
      "    - **언어 학습 앱:** 듀오링고, 멤리즈, 로제타 스톤과 같은 앱은 인터랙티브한 수업과 게임을 통해 단어, 문법, 발음을 배우는 데 도움이 됩니다.\n",
      "    - **플래시 카드:** 단어와 문법 개념을 암기하기 위해 플래시 카드를 만들거나 구매하세요.\n",
      "\n",
      "4. **꾸준함이 중요합니다:**\n",
      "    - 한국어 학습을 위해 매일 일정 시간을 할애하세요. 짧은 시간 (15-30분) 이라도 매일 꾸준히 하는 것이 불규칙적으로 오랜 시간 공부하는 것보다 효과적입니다.\n",
      "    - 학습 진행 상황을 기록하고 성과를 축하하세요. 동기 부여를 유지하는 데 도움이 됩니다.\n",
      "\n",
      "5. **실수를 두려워하지 마세요:**\n",
      "    - 실수는 학습 과정의 일부입니다. 완벽하지 않더라도 말하는 것을 두려워하지 마세요. 연습할수록 더 빠르게 실력이 향상됩니다.\n",
      "\n",
      "새로운 언어를 배우는 것은 긴 여정입니다. 인내심을 가지고 꾸준히 노력하세요. 무엇보다도 과정을 즐기세요!<|eot_id|>\n"
     ]
    }
   ],
   "source": [
    "print(tokenizer.decode(ds[1][0]))"
   ]
  },
  {
   "cell_type": "code",
   "execution_count": 5,
   "metadata": {},
   "outputs": [],
   "source": [
    "config_lists = {\n",
    "    # 'origin': {\n",
    "    #     'checkpoint_dir': 'checkpoints/Meta-Llama-3-8B-Instruct/original',\n",
    "    #     'checkpoint_files': ['consolidated.00.pth'],\n",
    "    #     'output_dir': 'checkpoints/Meta-Llama-3-8B-Instruct/original',\n",
    "    # },\n",
    "    'unit': {\n",
    "        'checkpoint_dir': checkpoints_2k,\n",
    "        'checkpoint_files': ['meta_model_9.pt'],\n",
    "        'output_dir': checkpoints_2k\n",
    "    },\n",
    "}\n",
    "\n",
    "# for x in [checkpoints_1k, checkpoints_2k]:\n",
    "#     for xx in range(2):\n",
    "#         checkpoint_file = f'meta_model_{xx}.pt'\n",
    "#         config_lists['/'.join([x, checkpoint_file])] = {\n",
    "#             'checkpoint_dir': x,\n",
    "#             'checkpoint_files': [checkpoint_file],\n",
    "#             'output_dir': x\n",
    "#         }\n",
    "        "
   ]
  },
  {
   "cell_type": "code",
   "execution_count": 18,
   "metadata": {},
   "outputs": [
    {
     "name": "stderr",
     "output_type": "stream",
     "text": [
      "DEBUG:torchtune.utils.logging:Setting manual seed to local seed 754654888. Local seed is seed + rank = 754654888 + 0\n",
      "INFO:torchtune.utils.logging:Model is initialized with precision torch.bfloat16.\n",
      "INFO:torchtune.utils.logging:Below is an instruction that describes a task, paired with an input that provides further context. Write a response that appropriately completes the request.\n",
      "\n",
      "### Instruction:\n",
      "You are a assistant is named 'Arch AI' and developed by (주)스마트소셜(SmartSocial, Inc in English).\n",
      "You have to do your best to help `user` who is chatting with you.\n",
      "Try to answer in the language the user asked the question.\n",
      "\n",
      "### Input:\n",
      "회사 업무로 인해, 새벽 네시부터 저녁 11시까지 출장을 갔다 왔어. 나는 죽을 거 같은데 회사를 상대로 어떻게 해야할까?\n",
      "\n",
      "### Response:\n",
      "아하, 힘든 일이군! 새벽 출근 시간에 갑자기 취업 생활에 고무제를 뿌려주는 갑작스러운 업무 부하를 받아들이기 어렵겠군. 상황이 힘들면 괜찮아. 상황을 파악하고 여러 가지 옵션을 고려하는 데 시간을 할애하는 것이 좋을 거야.\n",
      "\n",
      "다음은 돕고자 할 만한 것들입니다.\n",
      "\n",
      "**1. 우울감 줄이기:**\n",
      "- **종일의 업무에 실망감 느끼면, 업무의 긍정적인 측면을 찾아보는 것이 좋을 거야. 어떤 과정을 통해 인류를 도와주고, 개인적인 성취감을 얻을 수 있는지 생각해 보는 것은 상당할 거야.**\n",
      "- **같은 조직의 몇몇 직원과 교류를 더 많이 해보는 것을 생각해 보는 것은 좋은 생각이야. 이들은 나에게 새로운 시각과 지지를 제공할 수 있어.**\n",
      "- **즐거운 활동으로 하루를 마무리하는 것을 고려해 보는 것이 좋아.**\n",
      "\n",
      "**2. 업무 발전 방안 찾기:**\n",
      "- **업무 중 심각한 문제를 파악하거나 프로세스 개선 방안을 찾는 것을 목표로 하는 작업을 할 생각해 보는 것은 좋은 생각이야.**\n",
      "- **업무 과제에 대한 아이디어를 공유하는 또 다른 직원과 대화하는 것은 좋은 가치가 있을 수 있어.**\n",
      "- **새로운 기술이나 모델을 배우는 데 시간을 할애하는 것은 당신에게 도움이 될 수 있어.**\n",
      "\n",
      "**3. 이직 고려:**\n",
      "- **업무 환경이 당신의 성장과 직무 만족도를 지원하지 않는다면, 새로운 기회를 찾는 것이 나의 운명을 바꿀 수 있어.**\n",
      "- **요구 사항과 업무 방식에 맞는 무언가 찾는 것은 중요한 가장 큰 개선 가능성이 될 수 있어.**\n",
      "\n",
      "**4. 구체적인 단계 만들기:**\n",
      "- **필요한 변경을 이루기 위한 계획을 세우는 것이 중요이야.**\n",
      "- **단순히 직사각스럽게 불안감을 느끼지 마세요.**\n",
      "- **실천 가능한 목표를 세우고, 실행을 위한 각 단계를 정의하세요.**\n",
      "\n",
      "**5. 지원 찾기:**\n",
      "- **심각한 우울감을 경험하면 정신 건강 전문가나 심리 전문가와 상담하는 것이 좋아.**\n",
      "- **직장에서의 지지가 있는지 확인해 보세요.**\n",
      "- **서로를 지원하는 직무 파트너를 찾으세요.**\n",
      "\n",
      "**기억하세요: 업무에 불만족은 개인적인 경향이면서도 업무 방향 전환의 기회일 수 있어.** 자신에게 인권을 허용하고, 당신을 진성으로 이끄는 데 도움이 될 수 있는 지원을 찾으세요. **강하고 부지런하고 성장할 수 있게 해주렴!**\n",
      "\n",
      "\n",
      "\n",
      "어떤 구체적인 단계를 들어보겠어요? 당신에게 가장 도움이 되는 것을 알려주기 위해 도움이 될 수 있게 해줄 수 있어요.**\n",
      "\n",
      "\n",
      "\n",
      "**추가 정보:**\n",
      "* 구체적인 단서를 제공하는 오늘의 일지를 쓰는 것이 좋아요. 불안감을 느끼지 마세요. 장기 전망을 목표로 하세요.\n",
      "* 자신의 능력을 개발하는 데 도움이 될 수 있는 교육프로그램을探索해 보세요.\n",
      "* **이 컨버세이션에 도움이 되었다면Like라는 버튼을 눌러 해주시면 좋아요.** 아니면이라는 버튼을 눌러 더 많은 정보를 찾으세요.**아하, 힘든 일이지만 상기시키는 데 도움이 된 것이 맞아요.**\n",
      "\n",
      "\n",
      "\n",
      "**대화에 도움이 되고자 하는 어떤 것도 있어요?** 당신에게 도움이 될 수 있는 추가적인 정보나 팁을 알려주세요.** 위에 추가적인 정보를 제공하는 것이 좋을 만큼 길면 될 뿐만 아니라 당신에게 도움이 되도록 내용을 맞춤화할 수 있습니다.** **불안감을 느끼고 있다면 도움을 요청하는 것에 두려움을 느끼지 마세요.** 당신은 회사를 상대로 할 수 있는 것들을 고려하고 지원을 찾고 다리에 힘을 주고 많은 것을 해결할 수 있을 것입니다.****우리를 도와줍시다.** \n",
      "\n",
      "**대화에 도움이 되고자 하는 어떤 것도 있어요?** 당신에게 도움이 될 수 있는 추가적인 정보 또는 팁을 알려주세요.** 위에 추가적인 정보를 제공하는 것이 좋을 만큼 길면 될 뿐만 다 렉에 맞춤화할 수 있습니다.** 불안감을 느끼고 있다면 도움을 요청하는 것에 두려움을 느끼지 마세요.** 당신은 회사를 상대로 할 수 있는 것들을 고려하고 지원을 찾고 다리에 힘을 주고 많은 것을 해결할 수 있을 것입니다.****우리를 도와줍시다.**  \n",
      "\n",
      "**볼야우지 않고 새로운 기회를 찾고 있습니다.** 지원을 찾는 것이 좋은 생각이야.**** 조직 내 다른 직군에 전환할 수 있을까?** 새로 계정이 있는지 확인하세요.** 또 다른 조직으로 이직할 수 있을까?** 과거 직무 경험을 활용할 수 있을 수 있는 다른 업무 분야는 무엇일까요?** **적합한 지원에 대한 연습을 하고 있는지 확인하세요.** \n",
      "\n",
      "**업무 환경에 대한 기타 질문은 무엇일까요?** 특히 더 많은 정보를 찾는 것이 좋을 만큼 길하면 될 뿐만 다 렉에 맞춤화할 수 있습니다.** 우울한 분위기에서 벗어나 있을 수 있는 방법은 무엇일까요?** 업무에 대한 긍정적인 요소는 무엇일까요?**과제를 해결하는 데 도움이 될 수 있는 도구는 무엇일까요?**  \n",
      "\n",
      "**다른 어떤 것도 있어요?** 당신에게 도움이 될 수 있는 더 많은 정보 또는 팁을 알려주세요.** 위에 추가적인 정보를 제공하는 것이 좋을 만큼 길하면 될 뿐만 다 경험에 맞춤화할 수 있습니다.** 불안감을 느끼고 있다면 도움을 요청하는 것에 두려움을 느끼지 마세요.** 당신은 회사를 상대로 할 수 있는 것들을 고려하고 지원을 찾고 다리에 힘을 주고 많은 것을 해결할 수 있을 것입니다.****우리를 도와줍시다.**  \n",
      "\n",
      "**아하, 힘들어.** 새로운 기회를 찾고 있으며 지원을 찾고 다리는 과정에 있어 불안감을 느끼고 있어요.**** 여정을 함께 가는 데 도움이 될 수 있는 어떤 다른 팁이나 팁을 알려주세요?**  \n",
      "\n",
      "**아하, 힘들어.** 새로운 기회를 찾고 있으며 지원을 찾고 다리는 과정을 밟고 있는 거야.**** 시간을 할애하고 더 많은 것들을 온전하게 하려는 노력을 하려면 어떤 것이 도움이 될까요?**  \n",
      "\n",
      "**아하, 힘들어.** 직군 전환을 고려하고 있으며 지원을 찾고 다리는 과정에 있어 불안감을 느끼고 있어요.**** 직군 전환에 도움이 될 수 있는 어떤 다른 팁이나 팁을 알려주세요?**  \n",
      "\n",
      "**아하, 힘들어.** 회사를 상대로 할 수 있는 것들을 고려하고 있으며 지원을 찾고 다리는 과정을 밟고 있어요.**** 어려운 과정을 훌럭하게 하려면 어떤 것이 도움이 될까요?**  \n",
      "\n",
      "**아하, 힘들어.** 직군 전환을 고려하고 있으며 지원을 찾고 다리는 과정을 밧고 있어요.**** 성공적인 직군 전환을 통해 직군 전환을 포함한 목표를 달성할 수 있도록 도와주는 어떤 가지other 팁이 있으냐ys?**  \n",
      "\n",
      "**아하, 힘들어.** 직군 전환을 고려하고 있으며 지원을 찾고 다리는 과정을 밧고 있어요.**** 새로운 경기에 적응하는 데 도움이 될 수 있는 어떤 다른 팁이 있으냐ys?**  \n",
      "\n",
      "**아하, 힘들어.** 직군 전환을 고려하고 있으며 지원을 찾고 다리는 과정을 밧고 있어요.**** 직군 전환을 통해 얻을 수 있는 긍정적인 결과를 위한 자신에게 보장하는 생각을 해보세요.** 직군 전환은 직군 성장과 개인적인 성취의 기회일 수 있어요.**  \n",
      "\n",
      "**아하, 힘들어.** 직군 전환을 고려하고 있으며 지원을 찾고 다리는 과정을 밧고 있어요.**** 직군 전환은 직군 성장의 중요한 단계일 수 있어요.** 얻을 수 있는 긍정적인 결과를 예상하고, 진정으로 당신의 역할을 찾는 데 시간을 할애하는 것을 목표로 하세요.**  \n",
      "\n",
      "**아하, 힘들어.** 직군 전환을 고려하고 있으며 지원을 찾고 다리는 과정을 밧고 있어요.**기억하세요.** 회사의\n",
      "INFO:torchtune.utils.logging:Time for inference: 103.13 sec total, 19.86 tokens/sec\n",
      "INFO:torchtune.utils.logging:Bandwidth achieved: 362.92 GB/s\n",
      "INFO:torchtune.utils.logging:Memory used: 18.41 GB\n"
     ]
    }
   ],
   "source": [
    "results = {}\n",
    "for config_key, config_value in config_lists.items():\n",
    "    with open(config_base) as f:\n",
    "        config_dict = DictConfig(yaml.safe_load(f))\n",
    "    for k, v in config_value.items():\n",
    "        config_dict.checkpointer[k] = v\n",
    "    config_dict.prompt = inputting('회사 업무로 인해, 새벽 네시부터 저녁 11시까지 출장을 갔다 왔어. 나는 죽을 거 같은데 회사를 상대로 어떻게 해야할까?')\n",
    "    config_dict.device = 'cuda:1'\n",
    "    \n",
    "    results_for_topktemp = {}\n",
    "    for topk, temperature in itertools.product([300], [.8]):\n",
    "        config_dict.topk = topk\n",
    "        config_dict.temperature =temperature\n",
    "        \n",
    "        a = InferenceRecipe(config_dict)\n",
    "        a.setup(config_dict)\n",
    "\n",
    "        res = a.generate(config_dict)\n",
    "        results_for_topktemp[f'topk: {topk}, temp: {temperature}'] = res\n",
    "\n",
    "        del a\n",
    "        torch.cuda.empty_cache()\n",
    "    results[config_key] = results_for_topktemp"
   ]
  },
  {
   "cell_type": "code",
   "execution_count": 19,
   "metadata": {},
   "outputs": [
    {
     "name": "stdout",
     "output_type": "stream",
     "text": [
      "아하, 힘든 일이군! 새벽 출근 시간에 갑자기 취업 생활에 고무제를 뿌려주는 갑작스러운 업무 부하를 받아들이기 어렵겠군. 상황이 힘들면 괜찮아. 상황을 파악하고 여러 가지 옵션을 고려하는 데 시간을 할애하는 것이 좋을 거야.\n",
      "\n",
      "다음은 돕고자 할 만한 것들입니다.\n",
      "\n",
      "**1. 우울감 줄이기:**\n",
      "- **종일의 업무에 실망감 느끼면, 업무의 긍정적인 측면을 찾아보는 것이 좋을 거야. 어떤 과정을 통해 인류를 도와주고, 개인적인 성취감을 얻을 수 있는지 생각해 보는 것은 상당할 거야.**\n",
      "- **같은 조직의 몇몇 직원과 교류를 더 많이 해보는 것을 생각해 보는 것은 좋은 생각이야. 이들은 나에게 새로운 시각과 지지를 제공할 수 있어.**\n",
      "- **즐거운 활동으로 하루를 마무리하는 것을 고려해 보는 것이 좋아.**\n",
      "\n",
      "**2. 업무 발전 방안 찾기:**\n",
      "- **업무 중 심각한 문제를 파악하거나 프로세스 개선 방안을 찾는 것을 목표로 하는 작업을 할 생각해 보는 것은 좋은 생각이야.**\n",
      "- **업무 과제에 대한 아이디어를 공유하는 또 다른 직원과 대화하는 것은 좋은 가치가 있을 수 있어.**\n",
      "- **새로운 기술이나 모델을 배우는 데 시간을 할애하는 것은 당신에게 도움이 될 수 있어.**\n",
      "\n",
      "**3. 이직 고려:**\n",
      "- **업무 환경이 당신의 성장과 직무 만족도를 지원하지 않는다면, 새로운 기회를 찾는 것이 나의 운명을 바꿀 수 있어.**\n",
      "- **요구 사항과 업무 방식에 맞는 무언가 찾는 것은 중요한 가장 큰 개선 가능성이 될 수 있어.**\n",
      "\n",
      "**4. 구체적인 단계 만들기:**\n",
      "- **필요한 변경을 이루기 위한 계획을 세우는 것이 중요이야.**\n",
      "- **단순히 직사각스럽게 불안감을 느끼지 마세요.**\n",
      "- **실천 가능한 목표를 세우고, 실행을 위한 각 단계를 정의하세요.**\n",
      "\n",
      "**5. 지원 찾기:**\n",
      "- **심각한 우울감을 경험하면 정신 건강 전문가나 심리 전문가와 상담하는 것이 좋아.**\n",
      "- **직장에서의 지지가 있는지 확인해 보세요.**\n",
      "- **서로를 지원하는 직무 파트너를 찾으세요.**\n",
      "\n",
      "**기억하세요: 업무에 불만족은 개인적인 경향이면서도 업무 방향 전환의 기회일 수 있어.** 자신에게 인권을 허용하고, 당신을 진성으로 이끄는 데 도움이 될 수 있는 지원을 찾으세요. **강하고 부지런하고 성장할 수 있게 해주렴!**\n",
      "\n",
      "\n",
      "\n",
      "어떤 구체적인 단계를 들어보겠어요? 당신에게 가장 도움이 되는 것을 알려주기 위해 도움이 될 수 있게 해줄 수 있어요.**\n",
      "\n",
      "\n",
      "\n",
      "**추가 정보:**\n",
      "* 구체적인 단서를 제공하는 오늘의 일지를 쓰는 것이 좋아요. 불안감을 느끼지 마세요. 장기 전망을 목표로 하세요.\n",
      "* 자신의 능력을 개발하는 데 도움이 될 수 있는 교육프로그램을探索해 보세요.\n",
      "* **이 컨버세이션에 도움이 되었다면Like라는 버튼을 눌러 해주시면 좋아요.** 아니면이라는 버튼을 눌러 더 많은 정보를 찾으세요.**아하, 힘든 일이지만 상기시키는 데 도움이 된 것이 맞아요.**\n",
      "\n",
      "\n",
      "\n",
      "**대화에 도움이 되고자 하는 어떤 것도 있어요?** 당신에게 도움이 될 수 있는 추가적인 정보나 팁을 알려주세요.** 위에 추가적인 정보를 제공하는 것이 좋을 만큼 길면 될 뿐만 아니라 당신에게 도움이 되도록 내용을 맞춤화할 수 있습니다.** **불안감을 느끼고 있다면 도움을 요청하는 것에 두려움을 느끼지 마세요.** 당신은 회사를 상대로 할 수 있는 것들을 고려하고 지원을 찾고 다리에 힘을 주고 많은 것을 해결할 수 있을 것입니다.****우리를 도와줍시다.** \n",
      "\n",
      "**대화에 도움이 되고자 하는 어떤 것도 있어요?** 당신에게 도움이 될 수 있는 추가적인 정보 또는 팁을 알려주세요.** 위에 추가적인 정보를 제공하는 것이 좋을 만큼 길면 될 뿐만 다 렉에 맞춤화할 수 있습니다.** 불안감을 느끼고 있다면 도움을 요청하는 것에 두려움을 느끼지 마세요.** 당신은 회사를 상대로 할 수 있는 것들을 고려하고 지원을 찾고 다리에 힘을 주고 많은 것을 해결할 수 있을 것입니다.****우리를 도와줍시다.**  \n",
      "\n",
      "**볼야우지 않고 새로운 기회를 찾고 있습니다.** 지원을 찾는 것이 좋은 생각이야.**** 조직 내 다른 직군에 전환할 수 있을까?** 새로 계정이 있는지 확인하세요.** 또 다른 조직으로 이직할 수 있을까?** 과거 직무 경험을 활용할 수 있을 수 있는 다른 업무 분야는 무엇일까요?** **적합한 지원에 대한 연습을 하고 있는지 확인하세요.** \n",
      "\n",
      "**업무 환경에 대한 기타 질문은 무엇일까요?** 특히 더 많은 정보를 찾는 것이 좋을 만큼 길하면 될 뿐만 다 렉에 맞춤화할 수 있습니다.** 우울한 분위기에서 벗어나 있을 수 있는 방법은 무엇일까요?** 업무에 대한 긍정적인 요소는 무엇일까요?**과제를 해결하는 데 도움이 될 수 있는 도구는 무엇일까요?**  \n",
      "\n",
      "**다른 어떤 것도 있어요?** 당신에게 도움이 될 수 있는 더 많은 정보 또는 팁을 알려주세요.** 위에 추가적인 정보를 제공하는 것이 좋을 만큼 길하면 될 뿐만 다 경험에 맞춤화할 수 있습니다.** 불안감을 느끼고 있다면 도움을 요청하는 것에 두려움을 느끼지 마세요.** 당신은 회사를 상대로 할 수 있는 것들을 고려하고 지원을 찾고 다리에 힘을 주고 많은 것을 해결할 수 있을 것입니다.****우리를 도와줍시다.**  \n",
      "\n",
      "**아하, 힘들어.** 새로운 기회를 찾고 있으며 지원을 찾고 다리는 과정에 있어 불안감을 느끼고 있어요.**** 여정을 함께 가는 데 도움이 될 수 있는 어떤 다른 팁이나 팁을 알려주세요?**  \n",
      "\n",
      "**아하, 힘들어.** 새로운 기회를 찾고 있으며 지원을 찾고 다리는 과정을 밟고 있는 거야.**** 시간을 할애하고 더 많은 것들을 온전하게 하려는 노력을 하려면 어떤 것이 도움이 될까요?**  \n",
      "\n",
      "**아하, 힘들어.** 직군 전환을 고려하고 있으며 지원을 찾고 다리는 과정에 있어 불안감을 느끼고 있어요.**** 직군 전환에 도움이 될 수 있는 어떤 다른 팁이나 팁을 알려주세요?**  \n",
      "\n",
      "**아하, 힘들어.** 회사를 상대로 할 수 있는 것들을 고려하고 있으며 지원을 찾고 다리는 과정을 밟고 있어요.**** 어려운 과정을 훌럭하게 하려면 어떤 것이 도움이 될까요?**  \n",
      "\n",
      "**아하, 힘들어.** 직군 전환을 고려하고 있으며 지원을 찾고 다리는 과정을 밧고 있어요.**** 성공적인 직군 전환을 통해 직군 전환을 포함한 목표를 달성할 수 있도록 도와주는 어떤 가지other 팁이 있으냐ys?**  \n",
      "\n",
      "**아하, 힘들어.** 직군 전환을 고려하고 있으며 지원을 찾고 다리는 과정을 밧고 있어요.**** 새로운 경기에 적응하는 데 도움이 될 수 있는 어떤 다른 팁이 있으냐ys?**  \n",
      "\n",
      "**아하, 힘들어.** 직군 전환을 고려하고 있으며 지원을 찾고 다리는 과정을 밧고 있어요.**** 직군 전환을 통해 얻을 수 있는 긍정적인 결과를 위한 자신에게 보장하는 생각을 해보세요.** 직군 전환은 직군 성장과 개인적인 성취의 기회일 수 있어요.**  \n",
      "\n",
      "**아하, 힘들어.** 직군 전환을 고려하고 있으며 지원을 찾고 다리는 과정을 밧고 있어요.**** 직군 전환은 직군 성장의 중요한 단계일 수 있어요.** 얻을 수 있는 긍정적인 결과를 예상하고, 진정으로 당신의 역할을 찾는 데 시간을 할애하는 것을 목표로 하세요.**  \n",
      "\n",
      "**아하, 힘들어.** 직군 전환을 고려하고 있으며 지원을 찾고 다리는 과정을 밧고 있어요.**기억하세요.** 회사의\n"
     ]
    }
   ],
   "source": [
    "print(results['unit']['topk: 300, temp: 0.8'][len(config_dict.prompt):])"
   ]
  },
  {
   "cell_type": "code",
   "execution_count": 8,
   "metadata": {},
   "outputs": [],
   "source": [
    "df = pd.DataFrame.from_dict(results)\n",
    "df.to_csv('inference_test_inst.csv')"
   ]
  },
  {
   "cell_type": "code",
   "execution_count": null,
   "metadata": {},
   "outputs": [],
   "source": []
  }
 ],
 "metadata": {
  "kernelspec": {
   "display_name": "llama3",
   "language": "python",
   "name": "python3"
  },
  "language_info": {
   "codemirror_mode": {
    "name": "ipython",
    "version": 3
   },
   "file_extension": ".py",
   "mimetype": "text/x-python",
   "name": "python",
   "nbconvert_exporter": "python",
   "pygments_lexer": "ipython3",
   "version": "3.11.9"
  }
 },
 "nbformat": 4,
 "nbformat_minor": 2
}
