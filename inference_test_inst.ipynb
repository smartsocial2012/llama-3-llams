{
 "cells": [
  {
   "cell_type": "code",
   "execution_count": 1,
   "metadata": {},
   "outputs": [],
   "source": [
    "import torch, torchtune, yaml\n",
    "from torchtune import config, utils\n",
    "from generate import InferenceRecipe\n",
    "from omegaconf import DictConfig\n",
    "from matplotlib import pyplot as plt\n",
    "import pandas as pd"
   ]
  },
  {
   "cell_type": "code",
   "execution_count": 2,
   "metadata": {},
   "outputs": [],
   "source": [
    "from test_data import test_set"
   ]
  },
  {
   "cell_type": "code",
   "execution_count": 3,
   "metadata": {},
   "outputs": [],
   "source": [
    "# adapter = torch.load('checkpoints/Llama-3-LLaMS-kowiki-maxlenseq1024/adapter_9.pt')"
   ]
  },
  {
   "cell_type": "code",
   "execution_count": 4,
   "metadata": {},
   "outputs": [],
   "source": [
    "# weights = torch.load('checkpoints/Llama-3-LLaMS-kowiki-maxlenseq1024/meta_model_9.pt')"
   ]
  },
  {
   "cell_type": "code",
   "execution_count": 5,
   "metadata": {},
   "outputs": [],
   "source": [
    "config_base = './configs/llams_inst_generation.yaml'"
   ]
  },
  {
   "cell_type": "code",
   "execution_count": 6,
   "metadata": {},
   "outputs": [],
   "source": [
    "config_lists = {\n",
    "    'origin': {\n",
    "        'checkpoint_dir': 'checkpoints/Meta-Llama-3-8B-Instruct/original',\n",
    "        'checkpoint_files': ['consolidated.00.pth'],\n",
    "        'output_dir': 'checkpoints/Meta-Llama-3-8B-Instruct/original'\n",
    "    },\n",
    "    'from_base': {\n",
    "        'checkpoint_dir': 'checkpoints/Llama-3-LLaMS-inst-from-base',\n",
    "        'checkpoint_files': ['meta_model_1.pt'],\n",
    "        'output_dir': 'checkpoints/Llama-3-LLaMS-inst-from-base'\n",
    "    },\n",
    "}"
   ]
  },
  {
   "cell_type": "code",
   "execution_count": 7,
   "metadata": {},
   "outputs": [
    {
     "name": "stderr",
     "output_type": "stream",
     "text": [
      "DEBUG:torchtune.utils.logging:Setting manual seed to local seed 1234. Local seed is seed + rank = 1234 + 0\n",
      "INFO:torchtune.utils.logging:Model is initialized with precision torch.bfloat16.\n",
      "INFO:torchtune.utils.logging:플라톤에 대해서 알려줘. (About Plato)\n",
      "Plato (c. 428-348 BCE) was a Greek philosopher who is considered one of the most important figures in Western philosophy. He was born in Athens, Greece, and was a student of Socrates. After Socrates' death, Plato traveled extensively throughout the Mediterranean, including visits to Egypt and Italy. He eventually returned to Athens, where he founded the Academy, one of the earliest institutions of higher learning in the Western world.\n",
      "\n",
      "Plato's philosophical ideas were heavily influenced by his teacher, Socrates. He believed that knowledge and reality are not based on sensory experience, but rather on eternal and unchanging truths that can be accessed through reason and contemplation. He also believed that the soul is immortal and that the purpose of life is to seek wisdom and achieve spiritual enlightenment.\n",
      "\n",
      "Plato's philosophy is known for its use of allegory and myth. He often used stories and parables to convey complex philosophical ideas and to illustrate the nature of reality. His most famous work, \"The Republic,\" is a dialogue that explores the nature of justice and the ideal society.\n",
      "\n",
      "Plato's ideas have had a profound impact on Western philosophy and have influenced many other philosophers, including Aristotle, Kant, and Nietzsche. He is still widely studied and revered today, and his works continue to be a source of inspiration and guidance for philosophers and scholars around the world.\n",
      "\n",
      "Here are some key points about Plato:\n",
      "\n",
      "* Plato was born in Athens, Greece in 428 BCE.\n",
      "* He was\n",
      "INFO:torchtune.utils.logging:Time for inference: 15.99 sec total, 18.76 tokens/sec\n",
      "INFO:torchtune.utils.logging:Bandwidth achieved: 342.83 GB/s\n",
      "INFO:torchtune.utils.logging:Memory used: 18.34 GB\n",
      "DEBUG:torchtune.utils.logging:Setting manual seed to local seed 1234. Local seed is seed + rank = 1234 + 0\n",
      "INFO:torchtune.utils.logging:Model is initialized with precision torch.bfloat16.\n",
      "INFO:torchtune.utils.logging:플라톤에 대해서 알려줘. \n",
      "\n",
      "플라톤은 고대 그리스의 철학자로, 427-347년경에 살았다. 그는 소크라테스와 함께 가장 중요한 철학자 중 하나로, 철학의 아버지라 불린다. 플라톤은 소크라테스의 제자였다. \n",
      "\n",
      "플라톤은 철학의 아버지라 불리는 것은, 그는 철학의 기본 원칙을 정립하고, 철학의 방법론을 개발한 것 때문이다. 그는 철학의 방법론을 다음과 같이 정립하였다. \n",
      "\n",
      "1. 질문의 방법: 플라톤은 철학의 시작이 질문에서 시작함을 주장하였다. 그는 질문을 통해 진실을 추구하고, 문제를 해결하는 방법을 찾았다.\n",
      "2. 분석의 방법: 플라톤은 분석의 방법을 사용하여, 문제를 나누고, 각 부분을 이해하는 방법을 개발하였다.\n",
      "3. 일반화의 방법: 플라톤은 일반화의 방법을 사용하여, 특정한 경우를 일반적으로 적용하는 방법을 개발하였다.\n",
      "\n",
      "플라톤은 철학의 기본 원칙으로, ' Forms'를 주장하였다. 'Forms'는 고전적이고 영원한 모양을 말하는 것이며, 이에는 하위 개념이 포함되어 있다. 플라톤은 'Forms'는 실제 세계의 모양을 반영하며, 이를 통해 실제 세계는 하\n",
      "INFO:torchtune.utils.logging:Time for inference: 15.27 sec total, 19.65 tokens/sec\n",
      "INFO:torchtune.utils.logging:Bandwidth achieved: 359.13 GB/s\n",
      "INFO:torchtune.utils.logging:Memory used: 18.34 GB\n"
     ]
    }
   ],
   "source": [
    "results = []\n",
    "for config_item in config_lists.values():\n",
    "    with open(config_base) as f:\n",
    "        config_dict = DictConfig(yaml.safe_load(f))\n",
    "    for k, v in config_item.items():\n",
    "        config_dict.checkpointer[k] = v\n",
    "        \n",
    "    a = InferenceRecipe(config_dict)\n",
    "    a.setup(config_dict)\n",
    "\n",
    "    result = []\n",
    "    res = a.generate(config_dict)\n",
    "    result.append(res)\n",
    "\n",
    "    results.append(result)\n",
    "    del a\n",
    "    torch.cuda.empty_cache()"
   ]
  },
  {
   "cell_type": "code",
   "execution_count": 8,
   "metadata": {},
   "outputs": [
    {
     "data": {
      "text/plain": [
       "[['플라톤에 대해서 알려줘. (About Plato)\\nPlato (c. 428-348 BCE) was a Greek philosopher who is considered one of the most important figures in Western philosophy. He was born in Athens, Greece, and was a student of Socrates. After Socrates\\' death, Plato traveled extensively throughout the Mediterranean, including visits to Egypt and Italy. He eventually returned to Athens, where he founded the Academy, one of the earliest institutions of higher learning in the Western world.\\n\\nPlato\\'s philosophical ideas were heavily influenced by his teacher, Socrates. He believed that knowledge and reality are not based on sensory experience, but rather on eternal and unchanging truths that can be accessed through reason and contemplation. He also believed that the soul is immortal and that the purpose of life is to seek wisdom and achieve spiritual enlightenment.\\n\\nPlato\\'s philosophy is known for its use of allegory and myth. He often used stories and parables to convey complex philosophical ideas and to illustrate the nature of reality. His most famous work, \"The Republic,\" is a dialogue that explores the nature of justice and the ideal society.\\n\\nPlato\\'s ideas have had a profound impact on Western philosophy and have influenced many other philosophers, including Aristotle, Kant, and Nietzsche. He is still widely studied and revered today, and his works continue to be a source of inspiration and guidance for philosophers and scholars around the world.\\n\\nHere are some key points about Plato:\\n\\n* Plato was born in Athens, Greece in 428 BCE.\\n* He was'],\n",
       " [\"플라톤에 대해서 알려줘. \\n\\n플라톤은 고대 그리스의 철학자로, 427-347년경에 살았다. 그는 소크라테스와 함께 가장 중요한 철학자 중 하나로, 철학의 아버지라 불린다. 플라톤은 소크라테스의 제자였다. \\n\\n플라톤은 철학의 아버지라 불리는 것은, 그는 철학의 기본 원칙을 정립하고, 철학의 방법론을 개발한 것 때문이다. 그는 철학의 방법론을 다음과 같이 정립하였다. \\n\\n1. 질문의 방법: 플라톤은 철학의 시작이 질문에서 시작함을 주장하였다. 그는 질문을 통해 진실을 추구하고, 문제를 해결하는 방법을 찾았다.\\n2. 분석의 방법: 플라톤은 분석의 방법을 사용하여, 문제를 나누고, 각 부분을 이해하는 방법을 개발하였다.\\n3. 일반화의 방법: 플라톤은 일반화의 방법을 사용하여, 특정한 경우를 일반적으로 적용하는 방법을 개발하였다.\\n\\n플라톤은 철학의 기본 원칙으로, ' Forms'를 주장하였다. 'Forms'는 고전적이고 영원한 모양을 말하는 것이며, 이에는 하위 개념이 포함되어 있다. 플라톤은 'Forms'는 실제 세계의 모양을 반영하며, 이를 통해 실제 세계는 하\"]]"
      ]
     },
     "execution_count": 8,
     "metadata": {},
     "output_type": "execute_result"
    }
   ],
   "source": [
    "results"
   ]
  },
  {
   "cell_type": "code",
   "execution_count": 9,
   "metadata": {},
   "outputs": [
    {
     "name": "stdout",
     "output_type": "stream",
     "text": [
      "플라톤에 대해서 알려줘. (About Plato)\n",
      "Plato (c. 428-348 BCE) was a Greek philosopher who is considered one of the most important figures in Western philosophy. He was born in Athens, Greece, and was a student of Socrates. After Socrates' death, Plato traveled extensively throughout the Mediterranean, including visits to Egypt and Italy. He eventually returned to Athens, where he founded the Academy, one of the earliest institutions of higher learning in the Western world.\n",
      "\n",
      "Plato's philosophical ideas were heavily influenced by his teacher, Socrates. He believed that knowledge and reality are not based on sensory experience, but rather on eternal and unchanging truths that can be accessed through reason and contemplation. He also believed that the soul is immortal and that the purpose of life is to seek wisdom and achieve spiritual enlightenment.\n",
      "\n",
      "Plato's philosophy is known for its use of allegory and myth. He often used stories and parables to convey complex philosophical ideas and to illustrate the nature of reality. His most famous work, \"The Republic,\" is a dialogue that explores the nature of justice and the ideal society.\n",
      "\n",
      "Plato's ideas have had a profound impact on Western philosophy and have influenced many other philosophers, including Aristotle, Kant, and Nietzsche. He is still widely studied and revered today, and his works continue to be a source of inspiration and guidance for philosophers and scholars around the world.\n",
      "\n",
      "Here are some key points about Plato:\n",
      "\n",
      "* Plato was born in Athens, Greece in 428 BCE.\n",
      "* He was\n"
     ]
    }
   ],
   "source": [
    "print(results[0][0])"
   ]
  },
  {
   "cell_type": "code",
   "execution_count": 10,
   "metadata": {},
   "outputs": [
    {
     "name": "stdout",
     "output_type": "stream",
     "text": [
      "플라톤에 대해서 알려줘. \n",
      "\n",
      "플라톤은 고대 그리스의 철학자로, 427-347년경에 살았다. 그는 소크라테스와 함께 가장 중요한 철학자 중 하나로, 철학의 아버지라 불린다. 플라톤은 소크라테스의 제자였다. \n",
      "\n",
      "플라톤은 철학의 아버지라 불리는 것은, 그는 철학의 기본 원칙을 정립하고, 철학의 방법론을 개발한 것 때문이다. 그는 철학의 방법론을 다음과 같이 정립하였다. \n",
      "\n",
      "1. 질문의 방법: 플라톤은 철학의 시작이 질문에서 시작함을 주장하였다. 그는 질문을 통해 진실을 추구하고, 문제를 해결하는 방법을 찾았다.\n",
      "2. 분석의 방법: 플라톤은 분석의 방법을 사용하여, 문제를 나누고, 각 부분을 이해하는 방법을 개발하였다.\n",
      "3. 일반화의 방법: 플라톤은 일반화의 방법을 사용하여, 특정한 경우를 일반적으로 적용하는 방법을 개발하였다.\n",
      "\n",
      "플라톤은 철학의 기본 원칙으로, ' Forms'를 주장하였다. 'Forms'는 고전적이고 영원한 모양을 말하는 것이며, 이에는 하위 개념이 포함되어 있다. 플라톤은 'Forms'는 실제 세계의 모양을 반영하며, 이를 통해 실제 세계는 하\n"
     ]
    }
   ],
   "source": [
    "print(results[1][0])"
   ]
  }
 ],
 "metadata": {
  "kernelspec": {
   "display_name": "llama3",
   "language": "python",
   "name": "python3"
  },
  "language_info": {
   "codemirror_mode": {
    "name": "ipython",
    "version": 3
   },
   "file_extension": ".py",
   "mimetype": "text/x-python",
   "name": "python",
   "nbconvert_exporter": "python",
   "pygments_lexer": "ipython3",
   "version": "3.11.9"
  }
 },
 "nbformat": 4,
 "nbformat_minor": 2
}
