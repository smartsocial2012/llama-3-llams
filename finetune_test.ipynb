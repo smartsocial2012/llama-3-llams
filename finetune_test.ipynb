{
 "cells": [
  {
   "cell_type": "code",
   "execution_count": 103,
   "id": "6ddb88ee",
   "metadata": {},
   "outputs": [],
   "source": [
    "from abc import abstractmethod\n",
    "\n",
    "from torchtune.data import ChatFormat, InstructTemplate, AlpacaInstructTemplate\n",
    "from torchtune.datasets import alpaca_dataset, alpaca_cleaned_dataset, chat_dataset, instruct_dataset, InstructDataset\n",
    "from torchtune.models.llama3 import llama3_tokenizer\n",
    "from datasets import Dataset, load_dataset\n",
    "from torchtune.data import Message"
   ]
  },
  {
   "cell_type": "code",
   "execution_count": 82,
   "id": "8acb9335",
   "metadata": {},
   "outputs": [],
   "source": [
    "dataset = load_dataset(\"beomi/KoAlpaca-v1.1a\", split='train')"
   ]
  },
  {
   "cell_type": "code",
   "execution_count": 108,
   "id": "07332a40",
   "metadata": {},
   "outputs": [],
   "source": [
    "tmp = InstructDataset(\n",
    "    tokenizer=llama3_tokenizer,\n",
    "    source=\"beomi/KoAlpaca-v1.1a\",\n",
    "    template=AlpacaInstructTemplate,\n",
    "    train_on_input=True,\n",
    "    max_seq_len=2048,\n",
    "    split=\"train\",\n",
    "    )"
   ]
  },
  {
   "cell_type": "code",
   "execution_count": null,
   "id": "7e15fd0f",
   "metadata": {},
   "outputs": [],
   "source": []
  }
 ],
 "metadata": {
  "kernelspec": {
   "display_name": "llama3",
   "language": "python",
   "name": "python3"
  },
  "language_info": {
   "codemirror_mode": {
    "name": "ipython",
    "version": 3
   },
   "file_extension": ".py",
   "mimetype": "text/x-python",
   "name": "python",
   "nbconvert_exporter": "python",
   "pygments_lexer": "ipython3",
   "version": "3.11.9"
  }
 },
 "nbformat": 4,
 "nbformat_minor": 5
}
